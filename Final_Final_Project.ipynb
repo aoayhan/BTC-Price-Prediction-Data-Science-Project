{
  "nbformat": 4,
  "nbformat_minor": 0,
  "metadata": {
    "colab": {
      "provenance": [],
      "collapsed_sections": [],
      "toc_visible": true
    },
    "kernelspec": {
      "name": "python3",
      "display_name": "Python 3"
    }
  },
  "cells": [
    {
      "cell_type": "markdown",
      "metadata": {
        "id": "tPdlcstH11mU"
      },
      "source": [
        "# Bitcoin Price Prediction - Group 19\n",
        "\n",
        "Group Members:\n",
        "\n",
        "Anıl Ozan Ayhan\n",
        "\n",
        "Ahmet Kemal Ceylan"
      ]
    },
    {
      "cell_type": "markdown",
      "metadata": {
        "id": "B1iB4MSX3-6L"
      },
      "source": [
        "## Introduction\n",
        "Bitcoin is a decentralized digital currency created over a decade ago by Satoshi\n",
        "Nakamoto. The name Satoshi is a pseudonym used by the team or the person\n",
        "that sent out the first whitepaper containing the idea of blockchain technology\n",
        "being used in a way to secure digital money. Bitcoin is decentralized, meaning it\n",
        "doesn’t belong to any individual, company or government. There are millions of\n",
        "people “mining” bitcoin. These miners are keeping the blockchain running and\n",
        "creating new bitcoin by using computational power to verify transactions\n",
        "between users. \n",
        "Our purpose is to gather past data and analyze it considering many different\n",
        "variables. BTC and other cryptocurrencies are very volatile currencies, thus it is\n",
        "very challenging for investors to predict even the next day price of bitcoin. This\n",
        "makes our project essential for an investor to know when to invest. After\n",
        "collecting the data, we can detect what BTC price correlates with and hopefully\n",
        "we will be able to predict future price action to a certain extent."
      ]
    },
    {
      "cell_type": "markdown",
      "metadata": {
        "id": "ZjWMWVoA4NcV"
      },
      "source": [
        "### Utilized Datasets\n",
        "Our main dataset is a kaggle dataset that includes the open, high, low, close, adj close, volume information.\n",
        "There are a total of 2755 entries in the dataset with no missing values.\n",
        "\n",
        "https://www.kaggle.com/datasets/surajjha101/analyzing-and-prediction-of-bitcoin-pricing\n",
        "\n",
        "Data types are float, int and one object(date).\n",
        "\n",
        "\n",
        "\n",
        "The other 3 datasets are:\n",
        "\n",
        "https://www.kaggle.com/mczielinski/bitcoin-historical-data\n",
        "\n",
        "https://www.kaggle.com/sudalairajkumar/cryptocurrencypricehistory\n",
        "\n",
        "https://www.kaggle.com/prasoonkottarathil/btcinusd\n",
        "\n",
        "We describe their uses, data types and other specifics in the next parts.\n"
      ]
    },
    {
      "cell_type": "code",
      "source": [
        "from google.colab import drive\n",
        "drive.mount(\"./drive\", force_remount=True)\n",
        "\n",
        "# to be used as a prefix for all file I/O\n",
        "path_prefix = \"./drive/My Drive/CS 210 Final Project\""
      ],
      "metadata": {
        "id": "LQqvtefEfrJD",
        "colab": {
          "base_uri": "https://localhost:8080/"
        },
        "outputId": "6767b404-eeea-49dc-c701-c1972cb9b128"
      },
      "execution_count": null,
      "outputs": [
        {
          "output_type": "stream",
          "name": "stdout",
          "text": [
            "Mounted at ./drive\n"
          ]
        }
      ]
    },
    {
      "cell_type": "code",
      "source": [
        "import pandas as pd\n",
        "import numpy as np\n",
        "import matplotlib.pyplot as plt\n",
        "from os.path import join\n",
        "import plotly.express as px\n",
        "import seaborn as sns\n",
        "from scipy import stats\n",
        "from scipy import special\n",
        "from plotly.subplots import make_subplots\n",
        "from ipywidgets import interact\n",
        "from sklearn.model_selection import train_test_split \n",
        "from sklearn.linear_model import LinearRegression\n",
        "from sklearn import metrics\n",
        "from sklearn.metrics import mean_squared_error, mean_absolute_error\n",
        "from sklearn.neighbors import KNeighborsRegressor\n",
        "from sklearn.tree import DecisionTreeRegressor\n",
        "from sklearn.ensemble import RandomForestRegressor\n",
        "from sklearn.linear_model import LogisticRegression\n",
        "from sklearn.metrics import accuracy_score\n",
        "! pip install pandas_ta\n",
        "import pandas_ta as ta\n",
        "%matplotlib inline"
      ],
      "metadata": {
        "id": "19Uz2kGmfxSx",
        "colab": {
          "base_uri": "https://localhost:8080/"
        },
        "outputId": "1109bb96-721c-4616-95ca-443307e8f784"
      },
      "execution_count": null,
      "outputs": [
        {
          "output_type": "stream",
          "name": "stdout",
          "text": [
            "Looking in indexes: https://pypi.org/simple, https://us-python.pkg.dev/colab-wheels/public/simple/\n",
            "Collecting pandas_ta\n",
            "  Downloading pandas_ta-0.3.14b.tar.gz (115 kB)\n",
            "\u001b[K     |████████████████████████████████| 115 kB 7.9 MB/s \n",
            "\u001b[?25hRequirement already satisfied: pandas in /usr/local/lib/python3.7/dist-packages (from pandas_ta) (1.3.5)\n",
            "Requirement already satisfied: python-dateutil>=2.7.3 in /usr/local/lib/python3.7/dist-packages (from pandas->pandas_ta) (2.8.2)\n",
            "Requirement already satisfied: numpy>=1.17.3 in /usr/local/lib/python3.7/dist-packages (from pandas->pandas_ta) (1.21.6)\n",
            "Requirement already satisfied: pytz>=2017.3 in /usr/local/lib/python3.7/dist-packages (from pandas->pandas_ta) (2022.1)\n",
            "Requirement already satisfied: six>=1.5 in /usr/local/lib/python3.7/dist-packages (from python-dateutil>=2.7.3->pandas->pandas_ta) (1.15.0)\n",
            "Building wheels for collected packages: pandas-ta\n",
            "  Building wheel for pandas-ta (setup.py) ... \u001b[?25l\u001b[?25hdone\n",
            "  Created wheel for pandas-ta: filename=pandas_ta-0.3.14b0-py3-none-any.whl size=218923 sha256=ba4254e9fb8be5fee5f0dfafb138c8dadda42fe59f0adf048ed8e9511247dbc2\n",
            "  Stored in directory: /root/.cache/pip/wheels/0b/81/f0/cca85757840e4616a2c6b9fe12569d97d324c27cac60724c58\n",
            "Successfully built pandas-ta\n",
            "Installing collected packages: pandas-ta\n",
            "Successfully installed pandas-ta-0.3.14b0\n"
          ]
        }
      ]
    },
    {
      "cell_type": "code",
      "source": [
        "fname = \"BTC-USD.csv\"\n",
        "\n",
        "df = pd.read_csv(join(path_prefix, fname))"
      ],
      "metadata": {
        "id": "frAtqAgQfzip"
      },
      "execution_count": null,
      "outputs": []
    },
    {
      "cell_type": "markdown",
      "source": [
        "##### Data Analysis\n"
      ],
      "metadata": {
        "id": "BM6lB7MKeSj7"
      }
    },
    {
      "cell_type": "markdown",
      "metadata": {
        "id": "ict00io34o_x"
      },
      "source": [
        "#### Exploratory Data Analysis\n",
        "\n",
        "```\n",
        "1 Visualization of descriptive statistics of the dataset; visualize price trends based on time series and\n",
        "volume.\n",
        "2 Visualize each feature separately based on time series\n",
        "and/or close prices with respect to volumes and compare distributions or centrality metrics of these\n",
        "features for different open/close prices)\n",
        "3 Analysis of the highest and lowest price of all time with respect to volume\n",
        "4 Analyzing how high & low prices change with respect to time\n",
        "5 Comparison of open, close, high and low prices for selected time range and/or volume\n",
        "6 Introduction of at least four new features from additional datasets and visual explanations of them\n",
        "7 For both existing and new features, and usage of spatial visualization examples (as much as possible)\n",
        "are expected.\n"
      ]
    },
    {
      "cell_type": "markdown",
      "source": [
        "1-2) Visualization of descriptive statistics of the dataset; visualize price trends based on time series and\n",
        "volume."
      ],
      "metadata": {
        "id": "E4382GIW86Np"
      }
    },
    {
      "cell_type": "markdown",
      "source": [
        "First, we look at some basic info about our dataset."
      ],
      "metadata": {
        "id": "2wnLb8OCbHsQ"
      }
    },
    {
      "cell_type": "code",
      "source": [
        "print(df.describe)\n",
        "df.dtypes"
      ],
      "metadata": {
        "id": "6XDiKYdnbH3r",
        "colab": {
          "base_uri": "https://localhost:8080/"
        },
        "outputId": "a3e2d8a4-c236-4ec7-ca7e-1d574bd124c5"
      },
      "execution_count": null,
      "outputs": [
        {
          "output_type": "stream",
          "name": "stdout",
          "text": [
            "<bound method NDFrame.describe of             Date          Open          High           Low         Close  \\\n",
            "0     2014-09-17    465.864014    468.174011    452.421997    457.334015   \n",
            "1     2014-09-18    456.859985    456.859985    413.104004    424.440002   \n",
            "2     2014-09-19    424.102997    427.834991    384.532013    394.795990   \n",
            "3     2014-09-20    394.673004    423.295990    389.882996    408.903992   \n",
            "4     2014-09-21    408.084991    412.425995    393.181000    398.821014   \n",
            "...          ...           ...           ...           ...           ...   \n",
            "2750  2022-03-29  47100.437500  48022.289063  47100.437500  47465.730469   \n",
            "2751  2022-03-30  47456.898438  47655.148438  46746.210938  47062.664063   \n",
            "2752  2022-03-31  47062.148438  47512.027344  45390.539063  45538.675781   \n",
            "2753  2022-04-01  45554.164063  46616.242188  44403.140625  46281.644531   \n",
            "2754  2022-04-02  46168.101563  47003.429688  46157.980469  46508.101563   \n",
            "\n",
            "         Adj Close       Volume  \n",
            "0       457.334015     21056800  \n",
            "1       424.440002     34483200  \n",
            "2       394.795990     37919700  \n",
            "3       408.903992     36863600  \n",
            "4       398.821014     26580100  \n",
            "...            ...          ...  \n",
            "2750  47465.730469  31397059069  \n",
            "2751  47062.664063  29333883962  \n",
            "2752  45538.675781  33327427106  \n",
            "2753  46281.644531  38162644287  \n",
            "2754  46508.101563  35441143808  \n",
            "\n",
            "[2755 rows x 7 columns]>\n"
          ]
        },
        {
          "output_type": "execute_result",
          "data": {
            "text/plain": [
              "Date          object\n",
              "Open         float64\n",
              "High         float64\n",
              "Low          float64\n",
              "Close        float64\n",
              "Adj Close    float64\n",
              "Volume         int64\n",
              "dtype: object"
            ]
          },
          "metadata": {},
          "execution_count": 4
        }
      ]
    },
    {
      "cell_type": "markdown",
      "source": [
        "What do our first and last elements look like"
      ],
      "metadata": {
        "id": "1_bv02B9bH-v"
      }
    },
    {
      "cell_type": "code",
      "source": [
        "df.head(5)"
      ],
      "metadata": {
        "id": "ML7ByS4JbIGt",
        "colab": {
          "base_uri": "https://localhost:8080/",
          "height": 206
        },
        "outputId": "3ca341cf-193e-4034-eaab-2f228ee405a7"
      },
      "execution_count": null,
      "outputs": [
        {
          "output_type": "execute_result",
          "data": {
            "text/plain": [
              "         Date        Open        High         Low       Close   Adj Close  \\\n",
              "0  2014-09-17  465.864014  468.174011  452.421997  457.334015  457.334015   \n",
              "1  2014-09-18  456.859985  456.859985  413.104004  424.440002  424.440002   \n",
              "2  2014-09-19  424.102997  427.834991  384.532013  394.795990  394.795990   \n",
              "3  2014-09-20  394.673004  423.295990  389.882996  408.903992  408.903992   \n",
              "4  2014-09-21  408.084991  412.425995  393.181000  398.821014  398.821014   \n",
              "\n",
              "     Volume  \n",
              "0  21056800  \n",
              "1  34483200  \n",
              "2  37919700  \n",
              "3  36863600  \n",
              "4  26580100  "
            ],
            "text/html": [
              "\n",
              "  <div id=\"df-f6be4218-94a1-4192-8d69-2042b11b0b13\">\n",
              "    <div class=\"colab-df-container\">\n",
              "      <div>\n",
              "<style scoped>\n",
              "    .dataframe tbody tr th:only-of-type {\n",
              "        vertical-align: middle;\n",
              "    }\n",
              "\n",
              "    .dataframe tbody tr th {\n",
              "        vertical-align: top;\n",
              "    }\n",
              "\n",
              "    .dataframe thead th {\n",
              "        text-align: right;\n",
              "    }\n",
              "</style>\n",
              "<table border=\"1\" class=\"dataframe\">\n",
              "  <thead>\n",
              "    <tr style=\"text-align: right;\">\n",
              "      <th></th>\n",
              "      <th>Date</th>\n",
              "      <th>Open</th>\n",
              "      <th>High</th>\n",
              "      <th>Low</th>\n",
              "      <th>Close</th>\n",
              "      <th>Adj Close</th>\n",
              "      <th>Volume</th>\n",
              "    </tr>\n",
              "  </thead>\n",
              "  <tbody>\n",
              "    <tr>\n",
              "      <th>0</th>\n",
              "      <td>2014-09-17</td>\n",
              "      <td>465.864014</td>\n",
              "      <td>468.174011</td>\n",
              "      <td>452.421997</td>\n",
              "      <td>457.334015</td>\n",
              "      <td>457.334015</td>\n",
              "      <td>21056800</td>\n",
              "    </tr>\n",
              "    <tr>\n",
              "      <th>1</th>\n",
              "      <td>2014-09-18</td>\n",
              "      <td>456.859985</td>\n",
              "      <td>456.859985</td>\n",
              "      <td>413.104004</td>\n",
              "      <td>424.440002</td>\n",
              "      <td>424.440002</td>\n",
              "      <td>34483200</td>\n",
              "    </tr>\n",
              "    <tr>\n",
              "      <th>2</th>\n",
              "      <td>2014-09-19</td>\n",
              "      <td>424.102997</td>\n",
              "      <td>427.834991</td>\n",
              "      <td>384.532013</td>\n",
              "      <td>394.795990</td>\n",
              "      <td>394.795990</td>\n",
              "      <td>37919700</td>\n",
              "    </tr>\n",
              "    <tr>\n",
              "      <th>3</th>\n",
              "      <td>2014-09-20</td>\n",
              "      <td>394.673004</td>\n",
              "      <td>423.295990</td>\n",
              "      <td>389.882996</td>\n",
              "      <td>408.903992</td>\n",
              "      <td>408.903992</td>\n",
              "      <td>36863600</td>\n",
              "    </tr>\n",
              "    <tr>\n",
              "      <th>4</th>\n",
              "      <td>2014-09-21</td>\n",
              "      <td>408.084991</td>\n",
              "      <td>412.425995</td>\n",
              "      <td>393.181000</td>\n",
              "      <td>398.821014</td>\n",
              "      <td>398.821014</td>\n",
              "      <td>26580100</td>\n",
              "    </tr>\n",
              "  </tbody>\n",
              "</table>\n",
              "</div>\n",
              "      <button class=\"colab-df-convert\" onclick=\"convertToInteractive('df-f6be4218-94a1-4192-8d69-2042b11b0b13')\"\n",
              "              title=\"Convert this dataframe to an interactive table.\"\n",
              "              style=\"display:none;\">\n",
              "        \n",
              "  <svg xmlns=\"http://www.w3.org/2000/svg\" height=\"24px\"viewBox=\"0 0 24 24\"\n",
              "       width=\"24px\">\n",
              "    <path d=\"M0 0h24v24H0V0z\" fill=\"none\"/>\n",
              "    <path d=\"M18.56 5.44l.94 2.06.94-2.06 2.06-.94-2.06-.94-.94-2.06-.94 2.06-2.06.94zm-11 1L8.5 8.5l.94-2.06 2.06-.94-2.06-.94L8.5 2.5l-.94 2.06-2.06.94zm10 10l.94 2.06.94-2.06 2.06-.94-2.06-.94-.94-2.06-.94 2.06-2.06.94z\"/><path d=\"M17.41 7.96l-1.37-1.37c-.4-.4-.92-.59-1.43-.59-.52 0-1.04.2-1.43.59L10.3 9.45l-7.72 7.72c-.78.78-.78 2.05 0 2.83L4 21.41c.39.39.9.59 1.41.59.51 0 1.02-.2 1.41-.59l7.78-7.78 2.81-2.81c.8-.78.8-2.07 0-2.86zM5.41 20L4 18.59l7.72-7.72 1.47 1.35L5.41 20z\"/>\n",
              "  </svg>\n",
              "      </button>\n",
              "      \n",
              "  <style>\n",
              "    .colab-df-container {\n",
              "      display:flex;\n",
              "      flex-wrap:wrap;\n",
              "      gap: 12px;\n",
              "    }\n",
              "\n",
              "    .colab-df-convert {\n",
              "      background-color: #E8F0FE;\n",
              "      border: none;\n",
              "      border-radius: 50%;\n",
              "      cursor: pointer;\n",
              "      display: none;\n",
              "      fill: #1967D2;\n",
              "      height: 32px;\n",
              "      padding: 0 0 0 0;\n",
              "      width: 32px;\n",
              "    }\n",
              "\n",
              "    .colab-df-convert:hover {\n",
              "      background-color: #E2EBFA;\n",
              "      box-shadow: 0px 1px 2px rgba(60, 64, 67, 0.3), 0px 1px 3px 1px rgba(60, 64, 67, 0.15);\n",
              "      fill: #174EA6;\n",
              "    }\n",
              "\n",
              "    [theme=dark] .colab-df-convert {\n",
              "      background-color: #3B4455;\n",
              "      fill: #D2E3FC;\n",
              "    }\n",
              "\n",
              "    [theme=dark] .colab-df-convert:hover {\n",
              "      background-color: #434B5C;\n",
              "      box-shadow: 0px 1px 3px 1px rgba(0, 0, 0, 0.15);\n",
              "      filter: drop-shadow(0px 1px 2px rgba(0, 0, 0, 0.3));\n",
              "      fill: #FFFFFF;\n",
              "    }\n",
              "  </style>\n",
              "\n",
              "      <script>\n",
              "        const buttonEl =\n",
              "          document.querySelector('#df-f6be4218-94a1-4192-8d69-2042b11b0b13 button.colab-df-convert');\n",
              "        buttonEl.style.display =\n",
              "          google.colab.kernel.accessAllowed ? 'block' : 'none';\n",
              "\n",
              "        async function convertToInteractive(key) {\n",
              "          const element = document.querySelector('#df-f6be4218-94a1-4192-8d69-2042b11b0b13');\n",
              "          const dataTable =\n",
              "            await google.colab.kernel.invokeFunction('convertToInteractive',\n",
              "                                                     [key], {});\n",
              "          if (!dataTable) return;\n",
              "\n",
              "          const docLinkHtml = 'Like what you see? Visit the ' +\n",
              "            '<a target=\"_blank\" href=https://colab.research.google.com/notebooks/data_table.ipynb>data table notebook</a>'\n",
              "            + ' to learn more about interactive tables.';\n",
              "          element.innerHTML = '';\n",
              "          dataTable['output_type'] = 'display_data';\n",
              "          await google.colab.output.renderOutput(dataTable, element);\n",
              "          const docLink = document.createElement('div');\n",
              "          docLink.innerHTML = docLinkHtml;\n",
              "          element.appendChild(docLink);\n",
              "        }\n",
              "      </script>\n",
              "    </div>\n",
              "  </div>\n",
              "  "
            ]
          },
          "metadata": {},
          "execution_count": 5
        }
      ]
    },
    {
      "cell_type": "code",
      "source": [
        "df.tail(5)"
      ],
      "metadata": {
        "id": "a6X7DsoYbeOM",
        "colab": {
          "base_uri": "https://localhost:8080/",
          "height": 206
        },
        "outputId": "6b21f463-5d3b-41d2-e767-904fdc661c59"
      },
      "execution_count": null,
      "outputs": [
        {
          "output_type": "execute_result",
          "data": {
            "text/plain": [
              "            Date          Open          High           Low         Close  \\\n",
              "2750  2022-03-29  47100.437500  48022.289063  47100.437500  47465.730469   \n",
              "2751  2022-03-30  47456.898438  47655.148438  46746.210938  47062.664063   \n",
              "2752  2022-03-31  47062.148438  47512.027344  45390.539063  45538.675781   \n",
              "2753  2022-04-01  45554.164063  46616.242188  44403.140625  46281.644531   \n",
              "2754  2022-04-02  46168.101563  47003.429688  46157.980469  46508.101563   \n",
              "\n",
              "         Adj Close       Volume  \n",
              "2750  47465.730469  31397059069  \n",
              "2751  47062.664063  29333883962  \n",
              "2752  45538.675781  33327427106  \n",
              "2753  46281.644531  38162644287  \n",
              "2754  46508.101563  35441143808  "
            ],
            "text/html": [
              "\n",
              "  <div id=\"df-7b0f57b2-8dcd-4623-b50b-87178a16bd6d\">\n",
              "    <div class=\"colab-df-container\">\n",
              "      <div>\n",
              "<style scoped>\n",
              "    .dataframe tbody tr th:only-of-type {\n",
              "        vertical-align: middle;\n",
              "    }\n",
              "\n",
              "    .dataframe tbody tr th {\n",
              "        vertical-align: top;\n",
              "    }\n",
              "\n",
              "    .dataframe thead th {\n",
              "        text-align: right;\n",
              "    }\n",
              "</style>\n",
              "<table border=\"1\" class=\"dataframe\">\n",
              "  <thead>\n",
              "    <tr style=\"text-align: right;\">\n",
              "      <th></th>\n",
              "      <th>Date</th>\n",
              "      <th>Open</th>\n",
              "      <th>High</th>\n",
              "      <th>Low</th>\n",
              "      <th>Close</th>\n",
              "      <th>Adj Close</th>\n",
              "      <th>Volume</th>\n",
              "    </tr>\n",
              "  </thead>\n",
              "  <tbody>\n",
              "    <tr>\n",
              "      <th>2750</th>\n",
              "      <td>2022-03-29</td>\n",
              "      <td>47100.437500</td>\n",
              "      <td>48022.289063</td>\n",
              "      <td>47100.437500</td>\n",
              "      <td>47465.730469</td>\n",
              "      <td>47465.730469</td>\n",
              "      <td>31397059069</td>\n",
              "    </tr>\n",
              "    <tr>\n",
              "      <th>2751</th>\n",
              "      <td>2022-03-30</td>\n",
              "      <td>47456.898438</td>\n",
              "      <td>47655.148438</td>\n",
              "      <td>46746.210938</td>\n",
              "      <td>47062.664063</td>\n",
              "      <td>47062.664063</td>\n",
              "      <td>29333883962</td>\n",
              "    </tr>\n",
              "    <tr>\n",
              "      <th>2752</th>\n",
              "      <td>2022-03-31</td>\n",
              "      <td>47062.148438</td>\n",
              "      <td>47512.027344</td>\n",
              "      <td>45390.539063</td>\n",
              "      <td>45538.675781</td>\n",
              "      <td>45538.675781</td>\n",
              "      <td>33327427106</td>\n",
              "    </tr>\n",
              "    <tr>\n",
              "      <th>2753</th>\n",
              "      <td>2022-04-01</td>\n",
              "      <td>45554.164063</td>\n",
              "      <td>46616.242188</td>\n",
              "      <td>44403.140625</td>\n",
              "      <td>46281.644531</td>\n",
              "      <td>46281.644531</td>\n",
              "      <td>38162644287</td>\n",
              "    </tr>\n",
              "    <tr>\n",
              "      <th>2754</th>\n",
              "      <td>2022-04-02</td>\n",
              "      <td>46168.101563</td>\n",
              "      <td>47003.429688</td>\n",
              "      <td>46157.980469</td>\n",
              "      <td>46508.101563</td>\n",
              "      <td>46508.101563</td>\n",
              "      <td>35441143808</td>\n",
              "    </tr>\n",
              "  </tbody>\n",
              "</table>\n",
              "</div>\n",
              "      <button class=\"colab-df-convert\" onclick=\"convertToInteractive('df-7b0f57b2-8dcd-4623-b50b-87178a16bd6d')\"\n",
              "              title=\"Convert this dataframe to an interactive table.\"\n",
              "              style=\"display:none;\">\n",
              "        \n",
              "  <svg xmlns=\"http://www.w3.org/2000/svg\" height=\"24px\"viewBox=\"0 0 24 24\"\n",
              "       width=\"24px\">\n",
              "    <path d=\"M0 0h24v24H0V0z\" fill=\"none\"/>\n",
              "    <path d=\"M18.56 5.44l.94 2.06.94-2.06 2.06-.94-2.06-.94-.94-2.06-.94 2.06-2.06.94zm-11 1L8.5 8.5l.94-2.06 2.06-.94-2.06-.94L8.5 2.5l-.94 2.06-2.06.94zm10 10l.94 2.06.94-2.06 2.06-.94-2.06-.94-.94-2.06-.94 2.06-2.06.94z\"/><path d=\"M17.41 7.96l-1.37-1.37c-.4-.4-.92-.59-1.43-.59-.52 0-1.04.2-1.43.59L10.3 9.45l-7.72 7.72c-.78.78-.78 2.05 0 2.83L4 21.41c.39.39.9.59 1.41.59.51 0 1.02-.2 1.41-.59l7.78-7.78 2.81-2.81c.8-.78.8-2.07 0-2.86zM5.41 20L4 18.59l7.72-7.72 1.47 1.35L5.41 20z\"/>\n",
              "  </svg>\n",
              "      </button>\n",
              "      \n",
              "  <style>\n",
              "    .colab-df-container {\n",
              "      display:flex;\n",
              "      flex-wrap:wrap;\n",
              "      gap: 12px;\n",
              "    }\n",
              "\n",
              "    .colab-df-convert {\n",
              "      background-color: #E8F0FE;\n",
              "      border: none;\n",
              "      border-radius: 50%;\n",
              "      cursor: pointer;\n",
              "      display: none;\n",
              "      fill: #1967D2;\n",
              "      height: 32px;\n",
              "      padding: 0 0 0 0;\n",
              "      width: 32px;\n",
              "    }\n",
              "\n",
              "    .colab-df-convert:hover {\n",
              "      background-color: #E2EBFA;\n",
              "      box-shadow: 0px 1px 2px rgba(60, 64, 67, 0.3), 0px 1px 3px 1px rgba(60, 64, 67, 0.15);\n",
              "      fill: #174EA6;\n",
              "    }\n",
              "\n",
              "    [theme=dark] .colab-df-convert {\n",
              "      background-color: #3B4455;\n",
              "      fill: #D2E3FC;\n",
              "    }\n",
              "\n",
              "    [theme=dark] .colab-df-convert:hover {\n",
              "      background-color: #434B5C;\n",
              "      box-shadow: 0px 1px 3px 1px rgba(0, 0, 0, 0.15);\n",
              "      filter: drop-shadow(0px 1px 2px rgba(0, 0, 0, 0.3));\n",
              "      fill: #FFFFFF;\n",
              "    }\n",
              "  </style>\n",
              "\n",
              "      <script>\n",
              "        const buttonEl =\n",
              "          document.querySelector('#df-7b0f57b2-8dcd-4623-b50b-87178a16bd6d button.colab-df-convert');\n",
              "        buttonEl.style.display =\n",
              "          google.colab.kernel.accessAllowed ? 'block' : 'none';\n",
              "\n",
              "        async function convertToInteractive(key) {\n",
              "          const element = document.querySelector('#df-7b0f57b2-8dcd-4623-b50b-87178a16bd6d');\n",
              "          const dataTable =\n",
              "            await google.colab.kernel.invokeFunction('convertToInteractive',\n",
              "                                                     [key], {});\n",
              "          if (!dataTable) return;\n",
              "\n",
              "          const docLinkHtml = 'Like what you see? Visit the ' +\n",
              "            '<a target=\"_blank\" href=https://colab.research.google.com/notebooks/data_table.ipynb>data table notebook</a>'\n",
              "            + ' to learn more about interactive tables.';\n",
              "          element.innerHTML = '';\n",
              "          dataTable['output_type'] = 'display_data';\n",
              "          await google.colab.output.renderOutput(dataTable, element);\n",
              "          const docLink = document.createElement('div');\n",
              "          docLink.innerHTML = docLinkHtml;\n",
              "          element.appendChild(docLink);\n",
              "        }\n",
              "      </script>\n",
              "    </div>\n",
              "  </div>\n",
              "  "
            ]
          },
          "metadata": {},
          "execution_count": 6
        }
      ]
    },
    {
      "cell_type": "code",
      "source": [
        "df.isna().sum() / df.shape[0]"
      ],
      "metadata": {
        "id": "DOzIIcLBfm18",
        "colab": {
          "base_uri": "https://localhost:8080/"
        },
        "outputId": "937555f0-a95d-49ba-cc55-72fb7e82267f"
      },
      "execution_count": null,
      "outputs": [
        {
          "output_type": "execute_result",
          "data": {
            "text/plain": [
              "Date         0.0\n",
              "Open         0.0\n",
              "High         0.0\n",
              "Low          0.0\n",
              "Close        0.0\n",
              "Adj Close    0.0\n",
              "Volume       0.0\n",
              "dtype: float64"
            ]
          },
          "metadata": {},
          "execution_count": 7
        }
      ]
    },
    {
      "cell_type": "markdown",
      "source": [
        "The code above shows us how many NaN's there are and in this dataset, there are none."
      ],
      "metadata": {
        "id": "Ipv2kjT0fsmv"
      }
    },
    {
      "cell_type": "code",
      "source": [
        "# date to open\n",
        "x = df[\"Date\"]\n",
        "y = df[\"Open\"]\n",
        "plt.title(\"Open Price\")\n",
        "plt.xlabel(\"Date\")\n",
        "plt.ylabel(\"Open\")\n",
        "plt.plot(x, y, color =\"grey\")\n",
        "plt.xticks(np.arange(0,2755,680))\n",
        "plt.grid(axis='y');\n",
        "plt.show()\n",
        "# date to High\n",
        "x = df[\"Date\"]\n",
        "y = df[\"High\"]\n",
        "plt.title(\"Line graph\")\n",
        "plt.xlabel(\"Date\")\n",
        "plt.ylabel(\"High\")\n",
        "plt.plot(x, y, color =\"grey\")\n",
        "plt.xticks(np.arange(0,2755,680))\n",
        "plt.grid(axis='y');\n",
        "plt.show()\n",
        "# date to Low\n",
        "x = df[\"Date\"]\n",
        "y = df[\"Low\"]\n",
        "plt.title(\"Line graph\")\n",
        "plt.xlabel(\"Date\")\n",
        "plt.ylabel(\"Low\")\n",
        "plt.plot(x, y, color =\"grey\")\n",
        "plt.xticks(np.arange(0,2755,680))\n",
        "plt.grid(axis='y');\n",
        "plt.show()\n",
        "# date to close\n",
        "x = df[\"Date\"]\n",
        "y = df[\"Close\"]\n",
        "# plotting\n",
        "plt.title(\"Line graph\")\n",
        "plt.xlabel(\"Date\")\n",
        "plt.ylabel(\"Close\")\n",
        "plt.plot(x, y, color =\"grey\")\n",
        "plt.xticks(np.arange(0,2755,680))\n",
        "plt.grid(axis='y');\n",
        "plt.show()\n",
        "# date to v olume\n",
        "x = df[\"Date\"]\n",
        "y = df[\"Volume\"]\n",
        "plt.title(\"Line graph\")\n",
        "plt.xlabel(\"Date\")\n",
        "plt.ylabel(\"Volume\")\n",
        "plt.plot(x, y, color =\"grey\")\n",
        "plt.xticks(np.arange(0,2755,680))\n",
        "\n",
        "plt.show()"
      ],
      "metadata": {
        "id": "7jI8I_l9eYXy",
        "colab": {
          "base_uri": "https://localhost:8080/",
          "height": 1000
        },
        "outputId": "35a3cbbe-d830-43f1-d842-2d41d78cc40f"
      },
      "execution_count": null,
      "outputs": [
        {
          "output_type": "display_data",
          "data": {
            "text/plain": [
              "<Figure size 432x288 with 1 Axes>"
            ],
            "image/png": "[encoded data removed]"
          },
          "metadata": {
            "needs_background": "light"
          }
        },
        {
          "output_type": "display_data",
          "data": {
            "text/plain": [
              "<Figure size 432x288 with 1 Axes>"
            ],
            "image/png": "[encoded data removed]"
          },
          "metadata": {
            "needs_background": "light"
          }
        },
        {
          "output_type": "display_data",
          "data": {
            "text/plain": [
              "<Figure size 432x288 with 1 Axes>"
            ],
            "image/png": "[encoded data removed]"
          },
          "metadata": {
            "needs_background": "light"
          }
        },
        {
          "output_type": "display_data",
          "data": {
            "text/plain": [
              "<Figure size 432x288 with 1 Axes>"
            ],
            "image/png": "[encoded data removed]"
          },
          "metadata": {
            "needs_background": "light"
          }
        },
        {
          "output_type": "display_data",
          "data": {
            "text/plain": [
              "<Figure size 432x288 with 1 Axes>"
            ],
            "image/png": "[encoded data removed]"
          },
          "metadata": {
            "needs_background": "light"
          }
        }
      ]
    },
    {
      "cell_type": "markdown",
      "source": [
        "\n",
        "Here, we see that all graphs except date/volume look similar. This happens because the time(x axis) holds way too much data. 2755 days to be exact. We can compare these values with each other in order to get a better result or we can just limit the time interval.  We wont be analysing Adj Close as it is the same with Close in our dataset."
      ],
      "metadata": {
        "id": "KTdp4LCz1ME9"
      }
    },
    {
      "cell_type": "markdown",
      "source": [
        "3) Analysis of highest and lowest prices of all time with respect to volume"
      ],
      "metadata": {
        "id": "fH5Vtka9oar7"
      }
    },
    {
      "cell_type": "code",
      "source": [
        "dfhigh = df\n",
        "dfhigh = dfhigh.drop([\"Low\",\"Date\",\"Open\",\"Close\",\"Adj Close\"],axis=1)\n",
        "hi = dfhigh[\"High\"].max()\n",
        "print(dfhigh[dfhigh[\"High\"]==hi])\n",
        "\n",
        "\n",
        "dflow = df\n",
        "dflow = dflow.drop([\"High\",\"Date\",\"Open\",\"Close\",\"Adj Close\"],axis=1)\n",
        "lo = dflow[\"Low\"].min()\n",
        "print(dflow[dflow[\"Low\"]==lo])\n"
      ],
      "metadata": {
        "id": "Rs4VQUnneYaD",
        "outputId": "79205ef8-678f-4ae7-d998-517ebf05edfb",
        "colab": {
          "base_uri": "https://localhost:8080/"
        }
      },
      "execution_count": null,
      "outputs": [
        {
          "output_type": "stream",
          "name": "stdout",
          "text": [
            "           High       Volume\n",
            "2611  68789.625  48730828378\n",
            "            Low    Volume\n",
            "119  171.509995  97638704\n"
          ]
        }
      ]
    },
    {
      "cell_type": "markdown",
      "source": [
        "The day BTC reached its peak, at least 708.410 BTC was traded(volume / high)\n",
        "\n",
        "The day BTC was at its lowest, at most 570.986  BTC was traded(volume / low)\n"
      ],
      "metadata": {
        "id": "sSmoSXs2yxNz"
      }
    },
    {
      "cell_type": "markdown",
      "source": [
        "4-5) Analyzing how high & low prices change with respect to time"
      ],
      "metadata": {
        "id": "3jsoOBHO9nus"
      }
    },
    {
      "cell_type": "code",
      "source": [
        "# data to be plotted\n",
        "x = df[\"Date\"]\n",
        "y = df[\"High\"]\n",
        "# plotting\n",
        "plt.title(\"BTC-USD\")\n",
        "plt.xlabel(\"Time\")\n",
        "plt.ylabel(\"Highest Price\")\n",
        "plt.plot(x, y, color =\"grey\")\n",
        "plt.xticks(np.arange(0,2755,680))\n",
        "plt.show()\n",
        "\n",
        "\n",
        "# data to be plotted\n",
        "x = df[\"Date\"]\n",
        "y = df[\"Low\"]\n",
        "# plotting\n",
        "plt.title(\"BTC-USD\")\n",
        "plt.xlabel(\"Time\")\n",
        "plt.ylabel(\"Lowest Price\")\n",
        "plt.plot(x, y, color =\"grey\")\n",
        "plt.xticks(np.arange(0,2755,680))\n",
        "plt.show()\n",
        "\n",
        "# data to be plotted\n",
        "x = df[\"Low\"]\n",
        "y = df[\"High\"]\n",
        "# plotting\n",
        "plt.title(\"BTC-USD\")\n",
        "plt.xlabel(\"Lowest Price\")\n",
        "plt.ylabel(\"Highest Price\")\n",
        "plt.plot(x, y, color =\"grey\")\n",
        "plt.show()"
      ],
      "metadata": {
        "id": "Ek4b8jNX9t9S",
        "colab": {
          "base_uri": "https://localhost:8080/",
          "height": 851
        },
        "outputId": "03fd6be5-9c75-42d6-fc28-e32de7e7f219"
      },
      "execution_count": null,
      "outputs": [
        {
          "output_type": "display_data",
          "data": {
            "text/plain": [
              "<Figure size 432x288 with 1 Axes>"
            ],
            "image/png": "[encoded data removed]"
          },
          "metadata": {
            "needs_background": "light"
          }
        },
        {
          "output_type": "display_data",
          "data": {
            "text/plain": [
              "<Figure size 432x288 with 1 Axes>"
            ],
            "image/png": "[encoded data removed]"
          },
          "metadata": {
            "needs_background": "light"
          }
        },
        {
          "output_type": "display_data",
          "data": {
            "text/plain": [
              "<Figure size 432x288 with 1 Axes>"
            ],
            "image/png": "[encoded data removed]"
          },
          "metadata": {
            "needs_background": "light"
          }
        }
      ]
    },
    {
      "cell_type": "markdown",
      "source": [
        "As we can see above, graph of Highest Price over time and graph of Lowest Price seem very similar but some minimal differencies. This means that highest and lowest prices of a day have not very big effect to graph of 7 years BTC-USD price. When we look at the graph of Highest Price over Lowest Price, it can be seen that several days have big changes in a day. Also we can state that in between 20000 and 30000, the graph is thinner because there are not many values in this domain."
      ],
      "metadata": {
        "id": "DIT5Fpp090qw"
      }
    },
    {
      "cell_type": "markdown",
      "source": [
        "6)  Introduction of at least four new features from additional datasets and visual explanations of them"
      ],
      "metadata": {
        "id": "vTQIFCuV9keA"
      }
    },
    {
      "cell_type": "code",
      "source": [
        "fname2 = \"BTC-Hourly.csv\"\n",
        "df2 = pd.read_csv(join(path_prefix, fname2))\n",
        "print(df2.describe)\n",
        "print(df2.dtypes)\n",
        "df2.isna().sum() / df.shape[0]"
      ],
      "metadata": {
        "id": "e4OkH_t7eInq",
        "colab": {
          "base_uri": "https://localhost:8080/"
        },
        "outputId": "75d66e82-4a5a-442d-89b2-1b4e248833dd"
      },
      "execution_count": null,
      "outputs": [
        {
          "output_type": "stream",
          "name": "stdout",
          "text": [
            "<bound method NDFrame.describe of              unix                 date   symbol      open      high       low  \\\n",
            "0      1646092800  2022-03-01 00:00:00  BTC/USD  43221.71  43626.49  43185.48   \n",
            "1      1646089200  2022-02-28 23:00:00  BTC/USD  43085.30  43364.81  42892.37   \n",
            "2      1646085600  2022-02-28 22:00:00  BTC/USD  41657.23  44256.08  41650.29   \n",
            "3      1646082000  2022-02-28 21:00:00  BTC/USD  41917.09  41917.09  41542.60   \n",
            "4      1646078400  2022-02-28 20:00:00  BTC/USD  41361.99  41971.00  41284.11   \n",
            "...           ...                  ...      ...       ...       ...       ...   \n",
            "33254  1526378400  2018-05-15 10:00:00  BTC/USD   8708.32   8865.00   8695.11   \n",
            "33255  1526374800  2018-05-15 09:00:00  BTC/USD   8728.49   8754.40   8701.35   \n",
            "33256  1526371200  2018-05-15 08:00:00  BTC/USD   8739.00   8750.27   8660.53   \n",
            "33257  1526367600  2018-05-15 07:00:00  BTC/USD   8740.99   8766.00   8721.11   \n",
            "33258  1526364000  2018-05-15 06:00:00  BTC/USD   8733.86   8796.68   8707.28   \n",
            "\n",
            "          close    Volume BTC    Volume USD  \n",
            "0      43312.27  5.205632e+01  2.254677e+06  \n",
            "1      43178.98  1.068161e+02  4.612210e+06  \n",
            "2      42907.32  5.275406e+02  2.263535e+07  \n",
            "3      41659.53  6.975168e+01  2.905822e+06  \n",
            "4      41914.97  2.471517e+02  1.035935e+07  \n",
            "...         ...           ...           ...  \n",
            "33254   8795.90  1.110127e+07  1.260690e+03  \n",
            "33255   8708.32  1.593992e+06  1.826200e+02  \n",
            "33256   8728.49  7.986063e+06  9.177900e+02  \n",
            "33257   8739.00  2.390399e+06  2.735800e+02  \n",
            "33258   8740.99  4.906603e+06  5.599300e+02  \n",
            "\n",
            "[33259 rows x 9 columns]>\n",
            "unix            int64\n",
            "date           object\n",
            "symbol         object\n",
            "open          float64\n",
            "high          float64\n",
            "low           float64\n",
            "close         float64\n",
            "Volume BTC    float64\n",
            "Volume USD    float64\n",
            "dtype: object\n"
          ]
        },
        {
          "output_type": "execute_result",
          "data": {
            "text/plain": [
              "unix          0.0\n",
              "date          0.0\n",
              "symbol        0.0\n",
              "open          0.0\n",
              "high          0.0\n",
              "low           0.0\n",
              "close         0.0\n",
              "Volume BTC    0.0\n",
              "Volume USD    0.0\n",
              "dtype: float64"
            ]
          },
          "metadata": {},
          "execution_count": 12
        }
      ]
    },
    {
      "cell_type": "markdown",
      "source": [
        "These codes show us some basic details about our dataset and check if there are any NaN's in the set."
      ],
      "metadata": {
        "id": "1sdzr5Y9kqJ3"
      }
    },
    {
      "cell_type": "code",
      "source": [
        "# data to be plotted\n",
        "x = df2[\"date\"]\n",
        "y = df2[\"Volume BTC\"]\n",
        "# plotting\n",
        "plt.title(\"BTC-USD\")\n",
        "plt.xlabel(\"Time\")\n",
        "plt.ylabel(\"Volume BTC\")\n",
        "plt.plot(x, y, color =\"grey\")\n",
        "plt.xticks(np.arange(0,33259,11055))\n",
        "plt.show()"
      ],
      "metadata": {
        "id": "tweDVyeeeXmP",
        "colab": {
          "base_uri": "https://localhost:8080/",
          "height": 295
        },
        "outputId": "f8eb9fbd-b088-4612-8f66-efbaa6e49207"
      },
      "execution_count": null,
      "outputs": [
        {
          "output_type": "display_data",
          "data": {
            "text/plain": [
              "<Figure size 432x288 with 1 Axes>"
            ],
            "image/png": "[encoded data removed]"
          },
          "metadata": {
            "needs_background": "light"
          }
        }
      ]
    },
    {
      "cell_type": "markdown",
      "source": [
        "Now we have a new feature named Volume BTC from additional dataset. The data consist of values for every minute throughout 2017. Since the dataset is very  big, we should use this data with some limitations."
      ],
      "metadata": {
        "id": "LLnobpXY-K_4"
      }
    },
    {
      "cell_type": "code",
      "source": [
        "ethname = \"coin_Ethereum.csv\"\n",
        "df3 = pd.read_csv(join(path_prefix, ethname))\n",
        "print(df3.info)\n",
        "df3.dtypes"
      ],
      "metadata": {
        "id": "Vfv0JYyXeXqP",
        "colab": {
          "base_uri": "https://localhost:8080/"
        },
        "outputId": "7e81175a-e609-4757-8d05-1f30c893be93"
      },
      "execution_count": null,
      "outputs": [
        {
          "output_type": "stream",
          "name": "stdout",
          "text": [
            "<bound method DataFrame.info of        SNo      Name Symbol                 Date         High          Low  \\\n",
            "0        1  Ethereum    ETH  2015-08-08 23:59:59     2.798810     0.714725   \n",
            "1        2  Ethereum    ETH  2015-08-09 23:59:59     0.879810     0.629191   \n",
            "2        3  Ethereum    ETH  2015-08-10 23:59:59     0.729854     0.636546   \n",
            "3        4  Ethereum    ETH  2015-08-11 23:59:59     1.131410     0.663235   \n",
            "4        5  Ethereum    ETH  2015-08-12 23:59:59     1.289940     0.883608   \n",
            "...    ...       ...    ...                  ...          ...          ...   \n",
            "2155  2156  Ethereum    ETH  2021-07-02 23:59:59  2155.596496  2021.824808   \n",
            "2156  2157  Ethereum    ETH  2021-07-03 23:59:59  2237.567155  2117.590013   \n",
            "2157  2158  Ethereum    ETH  2021-07-04 23:59:59  2384.286857  2190.837703   \n",
            "2158  2159  Ethereum    ETH  2021-07-05 23:59:59  2321.922836  2163.041394   \n",
            "2159  2160  Ethereum    ETH  2021-07-06 23:59:59  2346.294874  2197.919385   \n",
            "\n",
            "             Open        Close        Volume     Marketcap  \n",
            "0        2.793760     0.753325  6.741880e+05  4.548689e+07  \n",
            "1        0.706136     0.701897  5.321700e+05  4.239957e+07  \n",
            "2        0.713989     0.708448  4.052830e+05  4.281836e+07  \n",
            "3        0.708087     1.067860  1.463100e+06  6.456929e+07  \n",
            "4        1.058750     1.217440  2.150620e+06  7.364501e+07  \n",
            "...           ...          ...           ...           ...  \n",
            "2155  2109.892677  2150.040364  3.179621e+10  2.505527e+11  \n",
            "2156  2150.835025  2226.114282  1.743336e+10  2.594475e+11  \n",
            "2157  2226.550382  2321.724112  1.878711e+10  2.706217e+11  \n",
            "2158  2321.922836  2198.582464  2.010379e+10  2.562978e+11  \n",
            "2159  2197.919385  2324.679449  2.089186e+10  2.710286e+11  \n",
            "\n",
            "[2160 rows x 10 columns]>\n"
          ]
        },
        {
          "output_type": "execute_result",
          "data": {
            "text/plain": [
              "SNo            int64\n",
              "Name          object\n",
              "Symbol        object\n",
              "Date          object\n",
              "High         float64\n",
              "Low          float64\n",
              "Open         float64\n",
              "Close        float64\n",
              "Volume       float64\n",
              "Marketcap    float64\n",
              "dtype: object"
            ]
          },
          "metadata": {},
          "execution_count": 14
        }
      ]
    },
    {
      "cell_type": "markdown",
      "source": [
        "In the Ethereum dataset, we find another feature called Marketcap. This value shows us the amount we would get if we multiplied the current price of Ethereum with the amount of Ethereum circulating. Marketcap allows investors to see the relative size of one company versus another."
      ],
      "metadata": {
        "id": "cU5K8ymIe1SP"
      }
    },
    {
      "cell_type": "markdown",
      "source": [
        "7) Visualization examples"
      ],
      "metadata": {
        "id": "SfUlo9eXlwVu"
      }
    },
    {
      "cell_type": "code",
      "source": [
        "sns.scatterplot(x=\"Open\", y=\"Close\", data=df)"
      ],
      "metadata": {
        "colab": {
          "base_uri": "https://localhost:8080/",
          "height": 299
        },
        "id": "_2BUm3dnl4Hb",
        "outputId": "3ea7b880-5b99-4768-cc81-85c7e99e26fe"
      },
      "execution_count": null,
      "outputs": [
        {
          "output_type": "execute_result",
          "data": {
            "text/plain": [
              "<matplotlib.axes._subplots.AxesSubplot at 0x7f9a2fe2cb90>"
            ]
          },
          "metadata": {},
          "execution_count": 15
        },
        {
          "output_type": "display_data",
          "data": {
            "text/plain": [
              "<Figure size 432x288 with 1 Axes>"
            ],
            "image/png": "[encoded data removed]"
          },
          "metadata": {
            "needs_background": "light"
          }
        }
      ]
    },
    {
      "cell_type": "code",
      "source": [
        "sns.scatterplot(x=\"High\", y=\"Low\", data=df)"
      ],
      "metadata": {
        "colab": {
          "base_uri": "https://localhost:8080/",
          "height": 297
        },
        "id": "KF6XyPrrmvff",
        "outputId": "405b73fb-745c-4de7-a1c1-fe8b541144d2"
      },
      "execution_count": null,
      "outputs": [
        {
          "output_type": "execute_result",
          "data": {
            "text/plain": [
              "<matplotlib.axes._subplots.AxesSubplot at 0x7f9a3037dd50>"
            ]
          },
          "metadata": {},
          "execution_count": 16
        },
        {
          "output_type": "display_data",
          "data": {
            "text/plain": [
              "<Figure size 432x288 with 1 Axes>"
            ],
            "image/png": "[encoded data removed]"
          },
          "metadata": {
            "needs_background": "light"
          }
        }
      ]
    },
    {
      "cell_type": "markdown",
      "metadata": {
        "id": "8h0G5RNzuABB"
      },
      "source": [
        "#### Statistical Analysis & Hypothesis Testing\n",
        "```\n",
        "1 Statistical tests to check how (or if) the volume and close features (in both single and combined manner) contributes \n",
        "to opening price of the next day.\n",
        "2 Statistical tests to check if significant differences exist between different months of a single year and same month\n",
        " of different years\n",
        "3 Statistical tests on selected features (e.g. investigate whether there exist significant statistical differences \n",
        "between high and low prices with respect to open and close prices of the same day)\n",
        "4 Statistical tests to check how the close and volume features affects metrics like open prices of next day, and\n",
        " how open price affects high and low prices of that day 2\n",
        "5 Utilizing at least four new features using extra datasets in hypothesis testing\n",
        "```\n"
      ]
    },
    {
      "cell_type": "code",
      "source": [
        "fname = \"BTC-USD.csv\"\n",
        "\n",
        "df = pd.read_csv(join(path_prefix, fname))"
      ],
      "metadata": {
        "id": "ObzbAcZV8Xaa"
      },
      "execution_count": null,
      "outputs": []
    },
    {
      "cell_type": "markdown",
      "source": [
        "1) Statistical tests to check how (or if) the volume and close features (in both single and combined manner) contributes \n",
        "to opening price of the next day."
      ],
      "metadata": {
        "id": "myRMwJQk8Xf6"
      }
    },
    {
      "cell_type": "code",
      "source": [
        "dfdatesiz = df.drop(\"Date\", axis=1)"
      ],
      "metadata": {
        "id": "lMsEeb0B6NqZ"
      },
      "execution_count": null,
      "outputs": []
    },
    {
      "cell_type": "code",
      "source": [
        "dfdatesiz.head()\n",
        "dfdatesiz.dropna(inplace=True)\n",
        "features = ['Volume' ,'Close']\n",
        "output_label = 'Open'\n",
        "x_train, x_test, y_train, y_test = train_test_split(dfdatesiz[features], dfdatesiz[output_label], test_size = 0.2,random_state=0)"
      ],
      "metadata": {
        "id": "LTPLLJh5BmWV"
      },
      "execution_count": null,
      "outputs": []
    },
    {
      "cell_type": "code",
      "source": [
        "from sklearn.datasets import make_regression\n",
        "model = LinearRegression()\n",
        "model.fit(x_test, y_test)\n",
        "importance = model.coef_\n",
        "for i,v in enumerate(importance):\n",
        "\tprint('Feature: %0d, Score: %.5f' % (i,v))\n",
        "plt.bar([x for x in range(len(importance))], importance)\n",
        "plt.show()"
      ],
      "metadata": {
        "colab": {
          "base_uri": "https://localhost:8080/",
          "height": 302
        },
        "id": "dKh_JAJABhWo",
        "outputId": "630a4679-2f70-46a8-fc6d-7c0746aa4e13"
      },
      "execution_count": null,
      "outputs": [
        {
          "output_type": "stream",
          "name": "stdout",
          "text": [
            "Feature: 0, Score: 0.00000\n",
            "Feature: 1, Score: 0.99576\n"
          ]
        },
        {
          "output_type": "display_data",
          "data": {
            "text/plain": [
              "<Figure size 432x288 with 1 Axes>"
            ],
            "image/png": "[encoded data removed]"
          },
          "metadata": {
            "needs_background": "light"
          }
        }
      ]
    },
    {
      "cell_type": "markdown",
      "source": [
        "2)  Statistical tests to check if significant differences exist between different months of a single year and same month\n",
        " of different years "
      ],
      "metadata": {
        "id": "Dx78Z3Y_8XVm"
      }
    },
    {
      "cell_type": "code",
      "source": [
        "df.info"
      ],
      "metadata": {
        "colab": {
          "base_uri": "https://localhost:8080/"
        },
        "id": "dV5EIFy1-N1P",
        "outputId": "52c568b3-f94b-416c-af33-0c26bc7da622"
      },
      "execution_count": null,
      "outputs": [
        {
          "output_type": "execute_result",
          "data": {
            "text/plain": [
              "<bound method DataFrame.info of             Date          Open          High           Low         Close  \\\n",
              "0     2014-09-17    465.864014    468.174011    452.421997    457.334015   \n",
              "1     2014-09-18    456.859985    456.859985    413.104004    424.440002   \n",
              "2     2014-09-19    424.102997    427.834991    384.532013    394.795990   \n",
              "3     2014-09-20    394.673004    423.295990    389.882996    408.903992   \n",
              "4     2014-09-21    408.084991    412.425995    393.181000    398.821014   \n",
              "...          ...           ...           ...           ...           ...   \n",
              "2750  2022-03-29  47100.437500  48022.289063  47100.437500  47465.730469   \n",
              "2751  2022-03-30  47456.898438  47655.148438  46746.210938  47062.664063   \n",
              "2752  2022-03-31  47062.148438  47512.027344  45390.539063  45538.675781   \n",
              "2753  2022-04-01  45554.164063  46616.242188  44403.140625  46281.644531   \n",
              "2754  2022-04-02  46168.101563  47003.429688  46157.980469  46508.101563   \n",
              "\n",
              "         Adj Close       Volume  \n",
              "0       457.334015     21056800  \n",
              "1       424.440002     34483200  \n",
              "2       394.795990     37919700  \n",
              "3       408.903992     36863600  \n",
              "4       398.821014     26580100  \n",
              "...            ...          ...  \n",
              "2750  47465.730469  31397059069  \n",
              "2751  47062.664063  29333883962  \n",
              "2752  45538.675781  33327427106  \n",
              "2753  46281.644531  38162644287  \n",
              "2754  46508.101563  35441143808  \n",
              "\n",
              "[2755 rows x 7 columns]>"
            ]
          },
          "metadata": {},
          "execution_count": 105
        }
      ]
    },
    {
      "cell_type": "code",
      "source": [
        "df_14ekim = df.iloc[14:45]\n",
        "df_15ekim = df.iloc[379:410]\n",
        "df_16ekim = df.iloc[745:776]\n",
        "df_17ekim = df.iloc[1110:1141]\n",
        "df_18ekim = df.iloc[1475:1506]\n",
        "df_19ekim = df.iloc[1840:1871]\n",
        "df_20ekim = df.iloc[2206:2237]\n",
        "df_21ekim = df.iloc[2571:2602]"
      ],
      "metadata": {
        "id": "1Bn3tnQceWeh"
      },
      "execution_count": null,
      "outputs": []
    },
    {
      "cell_type": "code",
      "source": [
        "def calculate(x,y,year):\n",
        "  if ((x-y)/x)*100 > 0:\n",
        "    print(\"This is equal to a\",((x-y)/x)*100,\"% drop in price throughout October \",year)\n",
        "    year= year+1\n",
        "  else:\n",
        "    print(\"This is equal to a\",abs(((x-y)/x)*100),\"% increase in price throughout October \",year)\n",
        "    year = year+1\n",
        "  return year\n",
        "\n",
        "year=2014\n",
        "a = df_14ekim[\"Open\"].values[0]\n",
        "b = df_14ekim[\"Open\"].values[30]\n",
        "a2= df_15ekim[\"Open\"].values[0]\n",
        "b2= df_15ekim[\"Open\"].values[30]\n",
        "a3= df_16ekim[\"Open\"].values[0]\n",
        "b3= df_16ekim[\"Open\"].values[30]\n",
        "a4= df_17ekim[\"Open\"].values[0]\n",
        "b4= df_17ekim[\"Open\"].values[30]\n",
        "a5= df_18ekim[\"Open\"].values[0]\n",
        "b5= df_18ekim[\"Open\"].values[30]\n",
        "a6= df_19ekim[\"Open\"].values[0]\n",
        "b6= df_19ekim[\"Open\"].values[30]\n",
        "a7= df_20ekim[\"Open\"].values[0]\n",
        "b7= df_20ekim[\"Open\"].values[30]\n",
        "a8= df_21ekim[\"Open\"].values[0]\n",
        "b8= df_21ekim[\"Open\"].values[30]\n",
        "\n",
        "year=calculate(a,b,year)\n",
        "year=calculate(a2,b2,year)\n",
        "year=calculate(a3,b3,year)\n",
        "year=calculate(a4,b4,year)\n",
        "year=calculate(a5,b5,year)\n",
        "year=calculate(a6,b6,year)\n",
        "year=calculate(a7,b7,year)\n",
        "year=calculate(a8,b8,year)\n",
        "\n",
        "print(\"Therefore, there are no correlations between the same months of different years.\")"
      ],
      "metadata": {
        "colab": {
          "base_uri": "https://localhost:8080/"
        },
        "id": "yCYMgUcfkWum",
        "outputId": "eb086d0f-c556-4bf5-cff8-93980be80d14"
      },
      "execution_count": null,
      "outputs": [
        {
          "output_type": "stream",
          "name": "stdout",
          "text": [
            "This is equal to a 10.94864291363977 % drop in price throughout October  2014\n",
            "This is equal to a 39.197638931523535 % increase in price throughout October  2015\n",
            "This is equal to a 15.200293241992588 % increase in price throughout October  2016\n",
            "This is equal to a 41.256615230195465 % increase in price throughout October  2017\n",
            "This is equal to a 4.272904368113382 % drop in price throughout October  2018\n",
            "This is equal to a 10.87671907650696 % increase in price throughout October  2019\n",
            "This is equal to a 25.485987814262895 % increase in price throughout October  2020\n",
            "This is equal to a 41.15720428420821 % increase in price throughout October  2021\n",
            "Therefore, there are no correlations between the same months of different years.\n"
          ]
        }
      ]
    },
    {
      "cell_type": "markdown",
      "source": [
        "3) Statistical tests on selected features (e.g. investigate whether there exist significant statistical differences \n",
        "between high and low prices with respect to open and close prices of the same day)\n"
      ],
      "metadata": {
        "id": "nzV4OJ1Z8XJ0"
      }
    },
    {
      "cell_type": "code",
      "source": [
        "crosstab_df=pd.crosstab(df[\"Close\"], df[\"High\"])\n",
        "alpha = 0.05\n",
        "chi2_test_stat, p, dof, expected_freqs= stats.chi2_contingency(crosstab_df)\n",
        "\n",
        "if p>alpha:\n",
        "  result = \" independent\"\n",
        "else:\n",
        "  result =\" not independent\"\n",
        "print(f\"Close and High are{result}\")"
      ],
      "metadata": {
        "colab": {
          "base_uri": "https://localhost:8080/"
        },
        "id": "qgYzklbw25HP",
        "outputId": "10269b39-de35-4bfa-8414-afefab2613bd"
      },
      "execution_count": null,
      "outputs": [
        {
          "output_type": "stream",
          "name": "stdout",
          "text": [
            "Close and High are independent\n"
          ]
        }
      ]
    },
    {
      "cell_type": "code",
      "source": [
        "crosstab_df=pd.crosstab(df[\"Close\"], df[\"Low\"])\n",
        "alpha = 0.05\n",
        "chi2_test_stat, p, dof, expected_freqs= stats.chi2_contingency(crosstab_df)\n",
        "\n",
        "if p>alpha:\n",
        "  result = \" independent\"\n",
        "else:\n",
        "  result =\" not independent\"\n",
        "print(f\"Close and Low are{result}\")"
      ],
      "metadata": {
        "colab": {
          "base_uri": "https://localhost:8080/"
        },
        "id": "__5yngwr3UnY",
        "outputId": "691a9891-8bd8-4f49-edee-56a22e1ccfcb"
      },
      "execution_count": null,
      "outputs": [
        {
          "output_type": "stream",
          "name": "stdout",
          "text": [
            "Close and Low are independent\n"
          ]
        }
      ]
    },
    {
      "cell_type": "code",
      "source": [
        "crosstab_df=pd.crosstab(df[\"Open\"], df[\"Low\"])\n",
        "alpha = 0.05\n",
        "chi2_test_stat, p, dof, expected_freqs= stats.chi2_contingency(crosstab_df)\n",
        "\n",
        "if p>alpha:\n",
        "  result = \" independent\"\n",
        "else:\n",
        "  result =\" not independent\"\n",
        "print(f\"Open and Low are{result}\")"
      ],
      "metadata": {
        "colab": {
          "base_uri": "https://localhost:8080/"
        },
        "id": "oh4vHKAB3oWo",
        "outputId": "208a7bcf-3451-46ec-d561-a2fed96d7e35"
      },
      "execution_count": null,
      "outputs": [
        {
          "output_type": "stream",
          "name": "stdout",
          "text": [
            "Open and Low are independent\n"
          ]
        }
      ]
    },
    {
      "cell_type": "code",
      "source": [
        "crosstab_df=pd.crosstab(df[\"Open\"], df[\"High\"])\n",
        "alpha = 0.05\n",
        "chi2_test_stat, p, dof, expected_freqs= stats.chi2_contingency(crosstab_df)\n",
        "\n",
        "if p>alpha:\n",
        "  result = \" independent\"\n",
        "else:\n",
        "  result =\" not independent\"\n",
        "print(f\"Open and High are{result}\")"
      ],
      "metadata": {
        "colab": {
          "base_uri": "https://localhost:8080/"
        },
        "id": "ePRmy_TQ3r3k",
        "outputId": "39c2001b-41d4-4ea7-ba31-af00a1c91679"
      },
      "execution_count": null,
      "outputs": [
        {
          "output_type": "stream",
          "name": "stdout",
          "text": [
            "Open and High are independent\n"
          ]
        }
      ]
    },
    {
      "cell_type": "markdown",
      "source": [
        "4)  Statistical tests to check how the close and volume features affects metrics like open prices of next day, and\n",
        " how open price affects high and low prices of that day"
      ],
      "metadata": {
        "id": "NGiR5H0S8WSP"
      }
    },
    {
      "cell_type": "code",
      "source": [
        "#how does Open, High and Low affect Close\n",
        "dfdatesiz.head()\n",
        "dfdatesiz.dropna(inplace=True)\n",
        "features = ['Open', 'High', 'Low']\n",
        "output_label = 'Close'\n",
        "x_train, x_test, y_train, y_test = train_test_split(dfdatesiz[features], dfdatesiz[output_label], test_size = 0.2,random_state=0)"
      ],
      "metadata": {
        "id": "zR8hKsbl_FCG"
      },
      "execution_count": null,
      "outputs": []
    },
    {
      "cell_type": "code",
      "source": [
        "from sklearn.datasets import make_regression\n",
        "model = LinearRegression()\n",
        "model.fit(x_test, y_test)\n",
        "importance = model.coef_\n",
        "for i,v in enumerate(importance):\n",
        "\tprint('Feature: %0d, Score: %.5f' % (i,v))\n",
        "plt.bar([x for x in range(len(importance))], importance)\n",
        "plt.show()"
      ],
      "metadata": {
        "colab": {
          "base_uri": "https://localhost:8080/",
          "height": 320
        },
        "id": "q3YjYqSoAOLb",
        "outputId": "ce9576f6-0907-46b9-ba5e-2e12de95529c"
      },
      "execution_count": null,
      "outputs": [
        {
          "output_type": "stream",
          "name": "stdout",
          "text": [
            "Feature: 0, Score: -0.63657\n",
            "Feature: 1, Score: 0.95309\n",
            "Feature: 2, Score: 0.67976\n"
          ]
        },
        {
          "output_type": "display_data",
          "data": {
            "text/plain": [
              "<Figure size 432x288 with 1 Axes>"
            ],
            "image/png": "[encoded data removed]"
          },
          "metadata": {
            "needs_background": "light"
          }
        }
      ]
    },
    {
      "cell_type": "markdown",
      "source": [
        "Here we see that \"High\" is the feature with most importance."
      ],
      "metadata": {
        "id": "if4NYO6dAl6C"
      }
    },
    {
      "cell_type": "code",
      "source": [
        "#how does Volume, High, Close and Low affect Close\n",
        "dfdatesiz.head()\n",
        "dfdatesiz.dropna(inplace=True)\n",
        "features = ['Close', 'High', 'Low', 'Volume']\n",
        "output_label = 'Open'\n",
        "x_train, x_test, y_train, y_test = train_test_split(dfdatesiz[features], dfdatesiz[output_label], test_size = 0.2,random_state=0)"
      ],
      "metadata": {
        "id": "J1dr3ialACCS"
      },
      "execution_count": null,
      "outputs": []
    },
    {
      "cell_type": "code",
      "source": [
        "from sklearn.datasets import make_regression\n",
        "model = LinearRegression()\n",
        "model.fit(x_test, y_test)\n",
        "importance = model.coef_\n",
        "for i,v in enumerate(importance):\n",
        "\tprint('Feature: %0d, Score: %.5f' % (i,v))\n",
        "plt.bar([x for x in range(len(importance))], importance)\n",
        "plt.show()"
      ],
      "metadata": {
        "colab": {
          "base_uri": "https://localhost:8080/",
          "height": 338
        },
        "id": "hxUJOp5a-xng",
        "outputId": "8e52c660-c5e1-4c73-8511-258c24fffe36"
      },
      "execution_count": null,
      "outputs": [
        {
          "output_type": "stream",
          "name": "stdout",
          "text": [
            "Feature: 0, Score: -0.71761\n",
            "Feature: 1, Score: 1.14803\n",
            "Feature: 2, Score: 0.55887\n",
            "Feature: 3, Score: -0.00000\n"
          ]
        },
        {
          "output_type": "display_data",
          "data": {
            "text/plain": [
              "<Figure size 432x288 with 1 Axes>"
            ],
            "image/png": "[encoded data removed]"
          },
          "metadata": {
            "needs_background": "light"
          }
        }
      ]
    },
    {
      "cell_type": "markdown",
      "source": [
        "We find out that \"Volume\" alone doesnt really affect the Open of next day and \"High\" is the most important."
      ],
      "metadata": {
        "id": "2GHW_JZ6Aa7S"
      }
    },
    {
      "cell_type": "markdown",
      "source": [
        "#### Machine Learning\n",
        "```\n",
        "1 Prediction of opening price for a single day given all data of previous 30 days\n",
        "2 Perform hyper-parameter tuning to increase model performance\n",
        "3 Create a simple recommendation system to decide whether to buy Bitcoin given the open and close\n",
        "prices, as well as volume, of previous 30 days\n",
        "4 Predict trends of all features (open, high, low, close, adj close, volume) for the future time span\n",
        "from 09 March 2022 to 09 September 2022\n",
        "5 Utilize at least four new features using additional datasets in machine learning models\n",
        "```"
      ],
      "metadata": {
        "id": "3wcye54s84ri"
      }
    },
    {
      "cell_type": "markdown",
      "source": [
        "1) Prediction of opening price for a single day given all data of previous 30 days"
      ],
      "metadata": {
        "id": "Xh1YOS7O9ifS"
      }
    },
    {
      "cell_type": "code",
      "source": [
        "bitcoin = pd.read_csv('./drive/My Drive/CS 210 Final Project/bitstampUSD_1-min_data_2012-01-01_to_2021-03-31.csv')"
      ],
      "metadata": {
        "id": "nSnB2-16rJr5"
      },
      "execution_count": null,
      "outputs": []
    },
    {
      "cell_type": "code",
      "source": [
        "bitcoin.isnull().sum()\n",
        "bitcoin['Dates'] = pd.to_datetime(bitcoin['Timestamp'], unit='s')\n",
        "bitcoin.head()\n",
        "bitcoin.dropna(inplace=True)\n",
        "features = ['Open', 'High', 'Low', 'Volume_(BTC)', 'Volume_(Currency)', 'Weighted_Price']\n",
        "output_label = 'Close'\n",
        "x_train, x_test, y_train, y_test = train_test_split(bitcoin[features], bitcoin[output_label], test_size = 0.2,random_state=0)"
      ],
      "metadata": {
        "id": "GGG5SEKytKjC"
      },
      "execution_count": null,
      "outputs": []
    },
    {
      "cell_type": "code",
      "source": [
        "model = LinearRegression()\n",
        "model.fit(x_train, y_train)\n",
        "future_set = bitcoin.shift(periods=30).tail(30)\n",
        "prediction = model.predict(future_set[features])"
      ],
      "metadata": {
        "id": "lo0FmHV_tZOF"
      },
      "execution_count": null,
      "outputs": []
    },
    {
      "cell_type": "code",
      "source": [
        "knn = KNeighborsRegressor(2)\n",
        "dt = DecisionTreeRegressor()\n",
        "rf = RandomForestRegressor(n_estimators=50)\n",
        "\n",
        "knn.fit(x_train, y_train)\n",
        "dt.fit(x_train, y_train)\n",
        "rf.fit(x_train, y_train)"
      ],
      "metadata": {
        "colab": {
          "base_uri": "https://localhost:8080/"
        },
        "id": "zO1daCYKvLlA",
        "outputId": "8c7ab28a-91be-4d95-88e0-0427beb009cf"
      },
      "execution_count": null,
      "outputs": [
        {
          "output_type": "execute_result",
          "data": {
            "text/plain": [
              "RandomForestRegressor(n_estimators=50)"
            ]
          },
          "metadata": {},
          "execution_count": 60
        }
      ]
    },
    {
      "cell_type": "code",
      "source": [
        "plt.figure(figsize = (12, 7))\n",
        "plt.plot(bitcoin[\"Timestamp\"][-350:-1], bitcoin[\"Weighted_Price\"][-350:-1], color='g', lw=2)\n",
        "plt.plot(future_set[\"Timestamp\"], prediction, color='r', lw=2)\n",
        "plt.title(\"Bitcoin Price over time\", size=25)\n",
        "plt.xlabel(\"Time\", size=20)\n",
        "plt.ylabel(\"$ Price\", size=20)"
      ],
      "metadata": {
        "colab": {
          "base_uri": "https://localhost:8080/",
          "height": 494
        },
        "id": "vy94FNNrtjdi",
        "outputId": "888ce22a-67ff-4bad-b8bd-c6a3de433359"
      },
      "execution_count": null,
      "outputs": [
        {
          "output_type": "execute_result",
          "data": {
            "text/plain": [
              "Text(0, 0.5, '$ Price')"
            ]
          },
          "metadata": {},
          "execution_count": 61
        },
        {
          "output_type": "display_data",
          "data": {
            "text/plain": [
              "<Figure size 864x504 with 1 Axes>"
            ],
            "image/png": "[encoded data removed]"
          },
          "metadata": {
            "needs_background": "light"
          }
        }
      ]
    },
    {
      "cell_type": "code",
      "source": [
        "print(model.score(x_test,y_test))"
      ],
      "metadata": {
        "colab": {
          "base_uri": "https://localhost:8080/"
        },
        "id": "ffNGbcvVvF-9",
        "outputId": "64a5fd54-40e0-4930-dc18-e506add4b15f"
      },
      "execution_count": null,
      "outputs": [
        {
          "output_type": "stream",
          "name": "stdout",
          "text": [
            "0.9999506597861257\n"
          ]
        }
      ]
    },
    {
      "cell_type": "markdown",
      "source": [
        "As we can see, our prediction is almost spot on with the real data."
      ],
      "metadata": {
        "id": "UJWXGRLXv64W"
      }
    },
    {
      "cell_type": "markdown",
      "source": [
        "2) Perform hyper-parameter tuning to increase model performance"
      ],
      "metadata": {
        "id": "6ysiSs2q9iWk"
      }
    },
    {
      "cell_type": "code",
      "source": [
        "y_pred = knn.predict(x_test)\n",
        "mse = mean_squared_error(y_test, y_pred)\n",
        "mae = mean_absolute_error(y_test, y_pred)\n",
        "rmse = np.sqrt(mse)\n",
        "\n",
        "print(\"mse: {}\".format(mse))\n",
        "print(\"mae: {}\".format(mae))\n",
        "print(\"rmse: {}\".format(rmse))"
      ],
      "metadata": {
        "colab": {
          "base_uri": "https://localhost:8080/"
        },
        "id": "F-4wXf8euv6y",
        "outputId": "52f922ed-f237-4858-d18c-6bb26c1b0fa4"
      },
      "execution_count": null,
      "outputs": [
        {
          "output_type": "stream",
          "name": "stdout",
          "text": [
            "mse: 7.190889363686095\n",
            "mae: 0.6994253530932961\n",
            "rmse: 2.6815833687741457\n"
          ]
        }
      ]
    },
    {
      "cell_type": "code",
      "source": [
        "y_pred = dt.predict(x_test)\n",
        "mse = mean_squared_error(y_test, y_pred)\n",
        "mae = mean_absolute_error(y_test, y_pred)\n",
        "rmse = np.sqrt(mse)\n",
        "\n",
        "print(\"mse: {}\".format(mse))\n",
        "print(\"mae: {}\".format(mae))\n",
        "print(\"rmse: {}\".format(rmse))"
      ],
      "metadata": {
        "colab": {
          "base_uri": "https://localhost:8080/"
        },
        "id": "jfM9i25BuxZv",
        "outputId": "4e00e000-1c06-43ef-c409-a39eb5b5e876"
      },
      "execution_count": null,
      "outputs": [
        {
          "output_type": "stream",
          "name": "stdout",
          "text": [
            "mse: 0.20231162721304954\n",
            "mae: 0.09895365028844548\n",
            "rmse: 0.44979064820541736\n"
          ]
        }
      ]
    },
    {
      "cell_type": "code",
      "source": [
        "y_pred = rf.predict(x_test)\n",
        "mse = mean_squared_error(y_test, y_pred)\n",
        "mae = mean_absolute_error(y_test, y_pred)\n",
        "rmse = np.sqrt(mse)\n",
        "\n",
        "print(\"mse: {}\".format(mse))\n",
        "print(\"mae: {}\".format(mae))\n",
        "print(\"rmse: {}\".format(rmse))"
      ],
      "metadata": {
        "colab": {
          "base_uri": "https://localhost:8080/"
        },
        "id": "v3UdNWk5upLZ",
        "outputId": "9a6565be-6d2d-4b3c-9e01-fe3c820a8927"
      },
      "execution_count": null,
      "outputs": [
        {
          "output_type": "stream",
          "name": "stdout",
          "text": [
            "mse: 0.12173720949870705\n",
            "mae: 0.083353202705401\n",
            "rmse: 0.34890859762795623\n"
          ]
        }
      ]
    },
    {
      "cell_type": "markdown",
      "source": [
        "Random Forest regressor is the most accurate one to use here, therefore we will be hyper-tuning that one."
      ],
      "metadata": {
        "id": "bEvHAkUAwDk2"
      }
    },
    {
      "cell_type": "code",
      "source": [
        "rf = RandomForestRegressor(bootstrap=True, ccp_alpha=0.0, criterion='mse',\n",
        "                      max_depth=100, max_features='sqrt', max_leaf_nodes=None,\n",
        "                      max_samples=None, min_impurity_decrease=0.0, min_samples_leaf=4,\n",
        "                      min_samples_split=10, min_weight_fraction_leaf=0.0,\n",
        "                      n_estimators=400, n_jobs=None, oob_score=False,\n",
        "                      random_state=None, verbose=0, warm_start=False)\n",
        "\n",
        "rf.fit(x_train,y_train)\n",
        "predictions_rf = rf.predict(x_test)\n",
        "errors = abs(predictions_rf - y_test)\n",
        "\n",
        "print('Mean Squared Error:', metrics.mean_squared_error(y_test, predictions_rf))\n",
        "print('Mean Absolute Error:', metrics.mean_absolute_error(y_test, predictions_rf))\n",
        "print('Root Mean Squared Error:', np.sqrt(metrics.mean_squared_error(y_test, predictions_rf)))"
      ],
      "metadata": {
        "colab": {
          "base_uri": "https://localhost:8080/"
        },
        "id": "KCU3Q4Gmw2ca",
        "outputId": "85026656-9d27-4b4a-8de1-259fb297971e"
      },
      "execution_count": null,
      "outputs": [
        {
          "output_type": "stream",
          "name": "stderr",
          "text": [
            "/usr/local/lib/python3.7/dist-packages/sklearn/ensemble/_forest.py:400: FutureWarning: Criterion 'mse' was deprecated in v1.0 and will be removed in version 1.2. Use `criterion='squared_error'` which is equivalent.\n",
            "  FutureWarning,\n"
          ]
        },
        {
          "output_type": "stream",
          "name": "stdout",
          "text": [
            "Mean Squared Error: 0.1197492773243568\n",
            "Mean Absolute Error: 0.09151791156680081\n",
            "Root Mean Squared Error: 0.34604808527769204\n"
          ]
        }
      ]
    },
    {
      "cell_type": "markdown",
      "source": [
        "As we can see, hyper tuned Random Forest Regressor is a bit better than the default regressor."
      ],
      "metadata": {
        "id": "NBagZyNwyiGP"
      }
    },
    {
      "cell_type": "markdown",
      "source": [
        "4) Predict trends of all features (open, high, low, close, adj close, volume) for the future time span\n",
        "from 09 March 2022 to 09 September 2022"
      ],
      "metadata": {
        "id": "xAkF0v339iDq"
      }
    },
    {
      "cell_type": "code",
      "source": [
        "df_march=df.drop(range(2730,2755))"
      ],
      "metadata": {
        "id": "3-jL8lpY9h-G"
      },
      "execution_count": null,
      "outputs": []
    },
    {
      "cell_type": "code",
      "source": [
        "df_march.info"
      ],
      "metadata": {
        "colab": {
          "base_uri": "https://localhost:8080/"
        },
        "id": "20kk-ipiI78T",
        "outputId": "156c189f-7c0d-437a-9186-15ef60c35bfd"
      },
      "execution_count": null,
      "outputs": [
        {
          "output_type": "execute_result",
          "data": {
            "text/plain": [
              "<bound method DataFrame.info of             Date          Open          High           Low         Close  \\\n",
              "0     2014-09-17    465.864014    468.174011    452.421997    457.334015   \n",
              "1     2014-09-18    456.859985    456.859985    413.104004    424.440002   \n",
              "2     2014-09-19    424.102997    427.834991    384.532013    394.795990   \n",
              "3     2014-09-20    394.673004    423.295990    389.882996    408.903992   \n",
              "4     2014-09-21    408.084991    412.425995    393.181000    398.821014   \n",
              "...          ...           ...           ...           ...           ...   \n",
              "2725  2022-03-04  42458.140625  42479.613281  38805.847656  39137.605469   \n",
              "2726  2022-03-05  39148.449219  39566.335938  38777.035156  39400.585938   \n",
              "2727  2022-03-06  39404.199219  39640.175781  38211.648438  38419.984375   \n",
              "2728  2022-03-07  38429.304688  39430.226563  37260.203125  38062.039063   \n",
              "2729  2022-03-08  38059.902344  39304.441406  37957.386719  38737.269531   \n",
              "\n",
              "         Adj Close       Volume  \n",
              "0       457.334015     21056800  \n",
              "1       424.440002     34483200  \n",
              "2       394.795990     37919700  \n",
              "3       408.903992     36863600  \n",
              "4       398.821014     26580100  \n",
              "...            ...          ...  \n",
              "2725  39137.605469  28516271427  \n",
              "2726  39400.585938  16975917450  \n",
              "2727  38419.984375  19745229902  \n",
              "2728  38062.039063  28546143503  \n",
              "2729  38737.269531  25776583476  \n",
              "\n",
              "[2730 rows x 7 columns]>"
            ]
          },
          "metadata": {},
          "execution_count": 37
        }
      ]
    },
    {
      "cell_type": "code",
      "source": [
        "# Reindex data using a DatetimeIndex\n",
        "df_march.set_index(pd.DatetimeIndex(df_march['Date']), inplace=True)\n",
        "\n",
        "# Keep only the 'Adj Close' Value\n",
        "df_march = df_march[['Adj Close']]\n",
        "\n",
        "print(df_march)\n",
        "df_march.info()"
      ],
      "metadata": {
        "colab": {
          "base_uri": "https://localhost:8080/"
        },
        "id": "LsvOQ13QMGpb",
        "outputId": "3698c266-85dd-41e4-8806-e8655c981e87"
      },
      "execution_count": null,
      "outputs": [
        {
          "output_type": "stream",
          "name": "stdout",
          "text": [
            "               Adj Close\n",
            "Date                    \n",
            "2014-09-17    457.334015\n",
            "2014-09-18    424.440002\n",
            "2014-09-19    394.795990\n",
            "2014-09-20    408.903992\n",
            "2014-09-21    398.821014\n",
            "...                  ...\n",
            "2022-03-04  39137.605469\n",
            "2022-03-05  39400.585938\n",
            "2022-03-06  38419.984375\n",
            "2022-03-07  38062.039063\n",
            "2022-03-08  38737.269531\n",
            "\n",
            "[2730 rows x 1 columns]\n",
            "<class 'pandas.core.frame.DataFrame'>\n",
            "DatetimeIndex: 2730 entries, 2014-09-17 to 2022-03-08\n",
            "Data columns (total 1 columns):\n",
            " #   Column     Non-Null Count  Dtype  \n",
            "---  ------     --------------  -----  \n",
            " 0   Adj Close  2730 non-null   float64\n",
            "dtypes: float64(1)\n",
            "memory usage: 42.7 KB\n"
          ]
        }
      ]
    },
    {
      "cell_type": "code",
      "source": [
        "# Add EMA to dataframe by appending\n",
        "# our existing dataframe\n",
        "df_march.ta.ema(close='Adj Close', length=10, append=True)\n"
      ],
      "metadata": {
        "id": "SzxEYjHwVBzv",
        "colab": {
          "base_uri": "https://localhost:8080/"
        },
        "outputId": "4e3132fc-22a9-4520-f4c4-0fe0a4a716f0"
      },
      "execution_count": null,
      "outputs": [
        {
          "output_type": "stream",
          "name": "stderr",
          "text": [
            "/usr/local/lib/python3.7/dist-packages/pandas_ta/core.py:426: SettingWithCopyWarning: \n",
            "A value is trying to be set on a copy of a slice from a DataFrame.\n",
            "Try using .loc[row_indexer,col_indexer] = value instead\n",
            "\n",
            "See the caveats in the documentation: https://pandas.pydata.org/pandas-docs/stable/user_guide/indexing.html#returning-a-view-versus-a-copy\n",
            "  df[ind_name] = result\n"
          ]
        },
        {
          "output_type": "execute_result",
          "data": {
            "text/plain": [
              "Date\n",
              "2014-09-17             NaN\n",
              "2014-09-18             NaN\n",
              "2014-09-19             NaN\n",
              "2014-09-20             NaN\n",
              "2014-09-21             NaN\n",
              "                  ...     \n",
              "2022-03-04    40998.241401\n",
              "2022-03-05    40707.758589\n",
              "2022-03-06    40291.799641\n",
              "2022-03-07    39886.388627\n",
              "2022-03-08    39677.457882\n",
              "Name: EMA_10, Length: 2730, dtype: float64"
            ]
          },
          "metadata": {},
          "execution_count": 39
        }
      ]
    },
    {
      "cell_type": "code",
      "source": [
        "df_march.head(10)"
      ],
      "metadata": {
        "colab": {
          "base_uri": "https://localhost:8080/",
          "height": 394
        },
        "id": "i6wAjUf4XXP8",
        "outputId": "5763b5f6-f12e-4bbf-e8c2-5c2ade1e66c2"
      },
      "execution_count": null,
      "outputs": [
        {
          "output_type": "execute_result",
          "data": {
            "text/plain": [
              "             Adj Close      EMA_10\n",
              "Date                              \n",
              "2014-09-17  457.334015         NaN\n",
              "2014-09-18  424.440002         NaN\n",
              "2014-09-19  394.795990         NaN\n",
              "2014-09-20  408.903992         NaN\n",
              "2014-09-21  398.821014         NaN\n",
              "2014-09-22  402.152008         NaN\n",
              "2014-09-23  435.790985         NaN\n",
              "2014-09-24  423.204987         NaN\n",
              "2014-09-25  411.574005         NaN\n",
              "2014-09-26  404.424988  416.144199"
            ],
            "text/html": [
              "\n",
              "  <div id=\"df-700713c4-6187-4542-bf07-705b41dbae8e\">\n",
              "    <div class=\"colab-df-container\">\n",
              "      <div>\n",
              "<style scoped>\n",
              "    .dataframe tbody tr th:only-of-type {\n",
              "        vertical-align: middle;\n",
              "    }\n",
              "\n",
              "    .dataframe tbody tr th {\n",
              "        vertical-align: top;\n",
              "    }\n",
              "\n",
              "    .dataframe thead th {\n",
              "        text-align: right;\n",
              "    }\n",
              "</style>\n",
              "<table border=\"1\" class=\"dataframe\">\n",
              "  <thead>\n",
              "    <tr style=\"text-align: right;\">\n",
              "      <th></th>\n",
              "      <th>Adj Close</th>\n",
              "      <th>EMA_10</th>\n",
              "    </tr>\n",
              "    <tr>\n",
              "      <th>Date</th>\n",
              "      <th></th>\n",
              "      <th></th>\n",
              "    </tr>\n",
              "  </thead>\n",
              "  <tbody>\n",
              "    <tr>\n",
              "      <th>2014-09-17</th>\n",
              "      <td>457.334015</td>\n",
              "      <td>NaN</td>\n",
              "    </tr>\n",
              "    <tr>\n",
              "      <th>2014-09-18</th>\n",
              "      <td>424.440002</td>\n",
              "      <td>NaN</td>\n",
              "    </tr>\n",
              "    <tr>\n",
              "      <th>2014-09-19</th>\n",
              "      <td>394.795990</td>\n",
              "      <td>NaN</td>\n",
              "    </tr>\n",
              "    <tr>\n",
              "      <th>2014-09-20</th>\n",
              "      <td>408.903992</td>\n",
              "      <td>NaN</td>\n",
              "    </tr>\n",
              "    <tr>\n",
              "      <th>2014-09-21</th>\n",
              "      <td>398.821014</td>\n",
              "      <td>NaN</td>\n",
              "    </tr>\n",
              "    <tr>\n",
              "      <th>2014-09-22</th>\n",
              "      <td>402.152008</td>\n",
              "      <td>NaN</td>\n",
              "    </tr>\n",
              "    <tr>\n",
              "      <th>2014-09-23</th>\n",
              "      <td>435.790985</td>\n",
              "      <td>NaN</td>\n",
              "    </tr>\n",
              "    <tr>\n",
              "      <th>2014-09-24</th>\n",
              "      <td>423.204987</td>\n",
              "      <td>NaN</td>\n",
              "    </tr>\n",
              "    <tr>\n",
              "      <th>2014-09-25</th>\n",
              "      <td>411.574005</td>\n",
              "      <td>NaN</td>\n",
              "    </tr>\n",
              "    <tr>\n",
              "      <th>2014-09-26</th>\n",
              "      <td>404.424988</td>\n",
              "      <td>416.144199</td>\n",
              "    </tr>\n",
              "  </tbody>\n",
              "</table>\n",
              "</div>\n",
              "      <button class=\"colab-df-convert\" onclick=\"convertToInteractive('df-700713c4-6187-4542-bf07-705b41dbae8e')\"\n",
              "              title=\"Convert this dataframe to an interactive table.\"\n",
              "              style=\"display:none;\">\n",
              "        \n",
              "  <svg xmlns=\"http://www.w3.org/2000/svg\" height=\"24px\"viewBox=\"0 0 24 24\"\n",
              "       width=\"24px\">\n",
              "    <path d=\"M0 0h24v24H0V0z\" fill=\"none\"/>\n",
              "    <path d=\"M18.56 5.44l.94 2.06.94-2.06 2.06-.94-2.06-.94-.94-2.06-.94 2.06-2.06.94zm-11 1L8.5 8.5l.94-2.06 2.06-.94-2.06-.94L8.5 2.5l-.94 2.06-2.06.94zm10 10l.94 2.06.94-2.06 2.06-.94-2.06-.94-.94-2.06-.94 2.06-2.06.94z\"/><path d=\"M17.41 7.96l-1.37-1.37c-.4-.4-.92-.59-1.43-.59-.52 0-1.04.2-1.43.59L10.3 9.45l-7.72 7.72c-.78.78-.78 2.05 0 2.83L4 21.41c.39.39.9.59 1.41.59.51 0 1.02-.2 1.41-.59l7.78-7.78 2.81-2.81c.8-.78.8-2.07 0-2.86zM5.41 20L4 18.59l7.72-7.72 1.47 1.35L5.41 20z\"/>\n",
              "  </svg>\n",
              "      </button>\n",
              "      \n",
              "  <style>\n",
              "    .colab-df-container {\n",
              "      display:flex;\n",
              "      flex-wrap:wrap;\n",
              "      gap: 12px;\n",
              "    }\n",
              "\n",
              "    .colab-df-convert {\n",
              "      background-color: #E8F0FE;\n",
              "      border: none;\n",
              "      border-radius: 50%;\n",
              "      cursor: pointer;\n",
              "      display: none;\n",
              "      fill: #1967D2;\n",
              "      height: 32px;\n",
              "      padding: 0 0 0 0;\n",
              "      width: 32px;\n",
              "    }\n",
              "\n",
              "    .colab-df-convert:hover {\n",
              "      background-color: #E2EBFA;\n",
              "      box-shadow: 0px 1px 2px rgba(60, 64, 67, 0.3), 0px 1px 3px 1px rgba(60, 64, 67, 0.15);\n",
              "      fill: #174EA6;\n",
              "    }\n",
              "\n",
              "    [theme=dark] .colab-df-convert {\n",
              "      background-color: #3B4455;\n",
              "      fill: #D2E3FC;\n",
              "    }\n",
              "\n",
              "    [theme=dark] .colab-df-convert:hover {\n",
              "      background-color: #434B5C;\n",
              "      box-shadow: 0px 1px 3px 1px rgba(0, 0, 0, 0.15);\n",
              "      filter: drop-shadow(0px 1px 2px rgba(0, 0, 0, 0.3));\n",
              "      fill: #FFFFFF;\n",
              "    }\n",
              "  </style>\n",
              "\n",
              "      <script>\n",
              "        const buttonEl =\n",
              "          document.querySelector('#df-700713c4-6187-4542-bf07-705b41dbae8e button.colab-df-convert');\n",
              "        buttonEl.style.display =\n",
              "          google.colab.kernel.accessAllowed ? 'block' : 'none';\n",
              "\n",
              "        async function convertToInteractive(key) {\n",
              "          const element = document.querySelector('#df-700713c4-6187-4542-bf07-705b41dbae8e');\n",
              "          const dataTable =\n",
              "            await google.colab.kernel.invokeFunction('convertToInteractive',\n",
              "                                                     [key], {});\n",
              "          if (!dataTable) return;\n",
              "\n",
              "          const docLinkHtml = 'Like what you see? Visit the ' +\n",
              "            '<a target=\"_blank\" href=https://colab.research.google.com/notebooks/data_table.ipynb>data table notebook</a>'\n",
              "            + ' to learn more about interactive tables.';\n",
              "          element.innerHTML = '';\n",
              "          dataTable['output_type'] = 'display_data';\n",
              "          await google.colab.output.renderOutput(dataTable, element);\n",
              "          const docLink = document.createElement('div');\n",
              "          docLink.innerHTML = docLinkHtml;\n",
              "          element.appendChild(docLink);\n",
              "        }\n",
              "      </script>\n",
              "    </div>\n",
              "  </div>\n",
              "  "
            ]
          },
          "metadata": {},
          "execution_count": 40
        }
      ]
    },
    {
      "cell_type": "code",
      "source": [
        "#The first X EMA_X values will be NaN since EMA creates itself by averaging those X many values\n",
        "#We get around this by dropping the first 10\n",
        "df_march = df_march.iloc[10:]\n",
        "df_march.head(10)"
      ],
      "metadata": {
        "colab": {
          "base_uri": "https://localhost:8080/",
          "height": 394
        },
        "id": "JExFFhG5Xir9",
        "outputId": "d9d839a8-14b1-4db3-d9be-7e9ea4e9ae89"
      },
      "execution_count": null,
      "outputs": [
        {
          "output_type": "execute_result",
          "data": {
            "text/plain": [
              "             Adj Close      EMA_10\n",
              "Date                              \n",
              "2014-09-27  399.519989  413.121615\n",
              "2014-09-28  377.181000  406.586958\n",
              "2014-09-29  375.467010  400.928785\n",
              "2014-09-30  386.944000  398.386097\n",
              "2014-10-01  383.614990  395.700441\n",
              "2014-10-02  375.071991  391.949814\n",
              "2014-10-03  359.511993  386.052028\n",
              "2014-10-04  328.865997  375.654568\n",
              "2014-10-05  320.510010  365.628285\n",
              "2014-10-06  330.079010  359.164780"
            ],
            "text/html": [
              "\n",
              "  <div id=\"df-18e3aa13-5ddd-4c37-a110-d7139eb0fa57\">\n",
              "    <div class=\"colab-df-container\">\n",
              "      <div>\n",
              "<style scoped>\n",
              "    .dataframe tbody tr th:only-of-type {\n",
              "        vertical-align: middle;\n",
              "    }\n",
              "\n",
              "    .dataframe tbody tr th {\n",
              "        vertical-align: top;\n",
              "    }\n",
              "\n",
              "    .dataframe thead th {\n",
              "        text-align: right;\n",
              "    }\n",
              "</style>\n",
              "<table border=\"1\" class=\"dataframe\">\n",
              "  <thead>\n",
              "    <tr style=\"text-align: right;\">\n",
              "      <th></th>\n",
              "      <th>Adj Close</th>\n",
              "      <th>EMA_10</th>\n",
              "    </tr>\n",
              "    <tr>\n",
              "      <th>Date</th>\n",
              "      <th></th>\n",
              "      <th></th>\n",
              "    </tr>\n",
              "  </thead>\n",
              "  <tbody>\n",
              "    <tr>\n",
              "      <th>2014-09-27</th>\n",
              "      <td>399.519989</td>\n",
              "      <td>413.121615</td>\n",
              "    </tr>\n",
              "    <tr>\n",
              "      <th>2014-09-28</th>\n",
              "      <td>377.181000</td>\n",
              "      <td>406.586958</td>\n",
              "    </tr>\n",
              "    <tr>\n",
              "      <th>2014-09-29</th>\n",
              "      <td>375.467010</td>\n",
              "      <td>400.928785</td>\n",
              "    </tr>\n",
              "    <tr>\n",
              "      <th>2014-09-30</th>\n",
              "      <td>386.944000</td>\n",
              "      <td>398.386097</td>\n",
              "    </tr>\n",
              "    <tr>\n",
              "      <th>2014-10-01</th>\n",
              "      <td>383.614990</td>\n",
              "      <td>395.700441</td>\n",
              "    </tr>\n",
              "    <tr>\n",
              "      <th>2014-10-02</th>\n",
              "      <td>375.071991</td>\n",
              "      <td>391.949814</td>\n",
              "    </tr>\n",
              "    <tr>\n",
              "      <th>2014-10-03</th>\n",
              "      <td>359.511993</td>\n",
              "      <td>386.052028</td>\n",
              "    </tr>\n",
              "    <tr>\n",
              "      <th>2014-10-04</th>\n",
              "      <td>328.865997</td>\n",
              "      <td>375.654568</td>\n",
              "    </tr>\n",
              "    <tr>\n",
              "      <th>2014-10-05</th>\n",
              "      <td>320.510010</td>\n",
              "      <td>365.628285</td>\n",
              "    </tr>\n",
              "    <tr>\n",
              "      <th>2014-10-06</th>\n",
              "      <td>330.079010</td>\n",
              "      <td>359.164780</td>\n",
              "    </tr>\n",
              "  </tbody>\n",
              "</table>\n",
              "</div>\n",
              "      <button class=\"colab-df-convert\" onclick=\"convertToInteractive('df-18e3aa13-5ddd-4c37-a110-d7139eb0fa57')\"\n",
              "              title=\"Convert this dataframe to an interactive table.\"\n",
              "              style=\"display:none;\">\n",
              "        \n",
              "  <svg xmlns=\"http://www.w3.org/2000/svg\" height=\"24px\"viewBox=\"0 0 24 24\"\n",
              "       width=\"24px\">\n",
              "    <path d=\"M0 0h24v24H0V0z\" fill=\"none\"/>\n",
              "    <path d=\"M18.56 5.44l.94 2.06.94-2.06 2.06-.94-2.06-.94-.94-2.06-.94 2.06-2.06.94zm-11 1L8.5 8.5l.94-2.06 2.06-.94-2.06-.94L8.5 2.5l-.94 2.06-2.06.94zm10 10l.94 2.06.94-2.06 2.06-.94-2.06-.94-.94-2.06-.94 2.06-2.06.94z\"/><path d=\"M17.41 7.96l-1.37-1.37c-.4-.4-.92-.59-1.43-.59-.52 0-1.04.2-1.43.59L10.3 9.45l-7.72 7.72c-.78.78-.78 2.05 0 2.83L4 21.41c.39.39.9.59 1.41.59.51 0 1.02-.2 1.41-.59l7.78-7.78 2.81-2.81c.8-.78.8-2.07 0-2.86zM5.41 20L4 18.59l7.72-7.72 1.47 1.35L5.41 20z\"/>\n",
              "  </svg>\n",
              "      </button>\n",
              "      \n",
              "  <style>\n",
              "    .colab-df-container {\n",
              "      display:flex;\n",
              "      flex-wrap:wrap;\n",
              "      gap: 12px;\n",
              "    }\n",
              "\n",
              "    .colab-df-convert {\n",
              "      background-color: #E8F0FE;\n",
              "      border: none;\n",
              "      border-radius: 50%;\n",
              "      cursor: pointer;\n",
              "      display: none;\n",
              "      fill: #1967D2;\n",
              "      height: 32px;\n",
              "      padding: 0 0 0 0;\n",
              "      width: 32px;\n",
              "    }\n",
              "\n",
              "    .colab-df-convert:hover {\n",
              "      background-color: #E2EBFA;\n",
              "      box-shadow: 0px 1px 2px rgba(60, 64, 67, 0.3), 0px 1px 3px 1px rgba(60, 64, 67, 0.15);\n",
              "      fill: #174EA6;\n",
              "    }\n",
              "\n",
              "    [theme=dark] .colab-df-convert {\n",
              "      background-color: #3B4455;\n",
              "      fill: #D2E3FC;\n",
              "    }\n",
              "\n",
              "    [theme=dark] .colab-df-convert:hover {\n",
              "      background-color: #434B5C;\n",
              "      box-shadow: 0px 1px 3px 1px rgba(0, 0, 0, 0.15);\n",
              "      filter: drop-shadow(0px 1px 2px rgba(0, 0, 0, 0.3));\n",
              "      fill: #FFFFFF;\n",
              "    }\n",
              "  </style>\n",
              "\n",
              "      <script>\n",
              "        const buttonEl =\n",
              "          document.querySelector('#df-18e3aa13-5ddd-4c37-a110-d7139eb0fa57 button.colab-df-convert');\n",
              "        buttonEl.style.display =\n",
              "          google.colab.kernel.accessAllowed ? 'block' : 'none';\n",
              "\n",
              "        async function convertToInteractive(key) {\n",
              "          const element = document.querySelector('#df-18e3aa13-5ddd-4c37-a110-d7139eb0fa57');\n",
              "          const dataTable =\n",
              "            await google.colab.kernel.invokeFunction('convertToInteractive',\n",
              "                                                     [key], {});\n",
              "          if (!dataTable) return;\n",
              "\n",
              "          const docLinkHtml = 'Like what you see? Visit the ' +\n",
              "            '<a target=\"_blank\" href=https://colab.research.google.com/notebooks/data_table.ipynb>data table notebook</a>'\n",
              "            + ' to learn more about interactive tables.';\n",
              "          element.innerHTML = '';\n",
              "          dataTable['output_type'] = 'display_data';\n",
              "          await google.colab.output.renderOutput(dataTable, element);\n",
              "          const docLink = document.createElement('div');\n",
              "          docLink.innerHTML = docLinkHtml;\n",
              "          element.appendChild(docLink);\n",
              "        }\n",
              "      </script>\n",
              "    </div>\n",
              "  </div>\n",
              "  "
            ]
          },
          "metadata": {},
          "execution_count": 41
        }
      ]
    },
    {
      "cell_type": "code",
      "source": [
        "X_train, X_test, y_train, y_test = train_test_split(df_march[['Adj Close']], df_march[['EMA_10']], test_size=.2)\n",
        "\n",
        "print(X_test.describe())\n",
        "print(\"\\n\")\n",
        "print(X_train.describe())\n"
      ],
      "metadata": {
        "colab": {
          "base_uri": "https://localhost:8080/"
        },
        "id": "J14RFnB6YPxZ",
        "outputId": "e0178def-e52a-4552-9b38-67f32a7a49af"
      },
      "execution_count": null,
      "outputs": [
        {
          "output_type": "stream",
          "name": "stdout",
          "text": [
            "          Adj Close\n",
            "count    544.000000\n",
            "mean   11740.280592\n",
            "std    16789.771244\n",
            "min      208.097000\n",
            "25%      579.113998\n",
            "50%     5614.524903\n",
            "75%    10753.850830\n",
            "max    64261.992188\n",
            "\n",
            "\n",
            "          Adj Close\n",
            "count   2176.000000\n",
            "mean   11490.824602\n",
            "std    16090.890842\n",
            "min      178.102997\n",
            "25%      617.881516\n",
            "50%     6420.037353\n",
            "75%    10600.732910\n",
            "max    67566.828125\n"
          ]
        }
      ]
    },
    {
      "cell_type": "code",
      "source": [
        "modelx = LinearRegression()\n",
        "modelx.fit(X_train, y_train)\n",
        "y_pred = modelx.predict(X_test)"
      ],
      "metadata": {
        "id": "JMv5uvDiZC4E"
      },
      "execution_count": null,
      "outputs": []
    },
    {
      "cell_type": "code",
      "source": [
        "from sklearn.metrics import mean_squared_error, r2_score, mean_absolute_error\n",
        "\n",
        "print(\"Model Coefficients:\", modelx.coef_)\n",
        "print(\"Mean Absolute Error:\", mean_absolute_error(y_test, y_pred))\n",
        "print(\"Coefficient of Determination:\", r2_score(y_test, y_pred))"
      ],
      "metadata": {
        "colab": {
          "base_uri": "https://localhost:8080/"
        },
        "id": "ah1ttz0TZLBr",
        "outputId": "4df1584a-e1a9-4c08-fc25-af453935b5fc"
      },
      "execution_count": null,
      "outputs": [
        {
          "output_type": "stream",
          "name": "stdout",
          "text": [
            "Model Coefficients: [[0.99467339]]\n",
            "Mean Absolute Error: 458.444987812971\n",
            "Coefficient of Determination: 0.9962970538314578\n"
          ]
        }
      ]
    }
  ]
}